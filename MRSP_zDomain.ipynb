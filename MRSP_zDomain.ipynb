{
  "cells": [
    {
      "cell_type": "markdown",
      "metadata": {
        "id": "pjlgULgbsvrt"
      },
      "source": [
        "<center>\n",
        "    <img src=\"https://github.com/TUIlmenauAMS/MRSP_Tutorials/blob/master/images/msp_header.png?raw=1\">\n",
        "</center>\n",
        "\n",
        "#### Prof. Dr. -Ing. Gerald Schuller <br> Jupyter Notebook: Renato Profeta"
      ]
    },
    {
      "cell_type": "markdown",
      "metadata": {
        "id": "c3AeceSwsvr0"
      },
      "source": [
        "# Effects in the z-Domain"
      ]
    },
    {
      "cell_type": "code",
      "execution_count": null,
      "metadata": {
        "hide_input": true,
        "id": "ifBIk-3tsvr2",
        "outputId": "a679bef2-2eda-4f2a-b286-49cfaffd57ab"
      },
      "outputs": [
        {
          "data": {
            "text/html": [
              "<center>\n",
              "<iframe width=\"560\" height=\"315\" src=\"https://www.youtube.com/embed/Ocb7r3ww5Tc\" frameborder=\"0\" allow=\"accelerometer; encrypted-media; gyroscope; picture-in-picture\" allowfullscreen></iframe>\n",
              "</center>\n"
            ],
            "text/plain": [
              "<IPython.core.display.HTML object>"
            ]
          },
          "metadata": {},
          "output_type": "display_data"
        }
      ],
      "source": [
        "%%html\n",
        "<center>\n",
        "<iframe width=\"560\" height=\"315\" src=\"https://www.youtube.com/embed/Ocb7r3ww5Tc\" frameborder=\"0\" allow=\"accelerometer; encrypted-media; gyroscope; picture-in-picture\" allowfullscreen></iframe>\n",
        "</center>"
      ]
    },
    {
      "cell_type": "markdown",
      "metadata": {
        "hide_input": true,
        "id": "iYqvloxPsvr7"
      },
      "source": [
        "The z-Transform is a more general transform than the Fourier transform, and we will use it to obtain perfect reconstruction in filter banks and wavelets. Hence we will now look at the effects of sampling and some more tools in the z-domain.\n",
        "\n",
        "Since we usually deal with causal systems in practice, we use the 1-sided z-Transform, defined as\n",
        "\n",
        "$$\\large\n",
        "X(z)=\\sum _{n=0} ^ {\\infty} x(n)z^{-n} \n",
        "$$\n",
        "\n",
        "First observe that we get our usual frequency response (the Discrete Time Fourier Transform) if we evaluate the z-tranform along the unit circle in the z-domain,\n",
        "\n",
        "$$\\large\n",
        "z=e^{j\\Omega}\n",
        "$$\n",
        "\n",
        "What is now the effect of **multiplying our signal with the unitpulse** train in the z-domain? To see this we simply apply the z-transform, and use our sum formulation for the delta impulse train, \n",
        "\n",
        "$$\\large\n",
        "X^d(z)=\\sum_{n=0} ^ {\\infty} x(n) \\Delta_N(n) z^{-n} \n",
        "$$\n",
        "\n",
        "Using (see: Lecture ADSP, Slides 06)\n",
        "$$\\large\n",
        "\\Delta_N(n)= \\frac{1} {N } \\sum_{k = 0} ^ {N - 1} e^{j \\frac{2 π} {N} \\cdot k \\cdot n}\n",
        "$$\n",
        "\n",
        "this becomes\n",
        "\n",
        "$$\\large\n",
        "\\frac{1}{N} \\sum_{k=0} ^ {N-1} \\sum _{n=0} ^\\infty x(n) (e^{-j \\frac{2 \\pi}{ N} \\cdot k} \\cdot z)^{-n} \n",
        "$$\n",
        "\n",
        "$$\\large\n",
        "= \\frac{1}{N} \\sum_{k=0} ^{N-1} X(e^{-j \\frac{2 \\pi} {N} \\cdot k} \\cdot z) \n",
        "$$\n",
        "\n",
        "(using the z-Transform definition and replacing $z$ by $e^{-j \\frac{2 \\pi} {N} \\cdot k} \\cdot z$:)\n",
        "\n",
        "$$\\large\n",
        "X(e^{-j\\frac{2\\pi} {N} \\cdot k} \\cdot z)=\\sum _ {n=0} ^\\infty x(n)(e^{-j\\frac{2\\pi}{N} \\cdot k} \\cdot z)^{-n} \n",
        "$$\n",
        "\n",
        "or, in short,\n",
        "\n",
        "$$\\large\n",
        "X^d(z)=\\frac{1} {N} \\sum_ {k=0 }^{N-1} X( e^{-j \\frac{2 \\pi} {N} \\cdot k} \\cdot z)\n",
        "$$"
      ]
    },
    {
      "cell_type": "code",
      "execution_count": null,
      "metadata": {
        "hide_input": true,
        "id": "w996QJyWsvr8",
        "outputId": "8f7d0d7b-d97c-42ef-9db7-f08850248c69"
      },
      "outputs": [
        {
          "data": {
            "text/html": [
              "<center>\n",
              "<iframe width=\"560\" height=\"315\" src=\"https://www.youtube.com/embed/e1xQJDLMHHE\" frameborder=\"0\" allow=\"accelerometer; encrypted-media; gyroscope; picture-in-picture\" allowfullscreen></iframe>\n",
              "</center>\n"
            ],
            "text/plain": [
              "<IPython.core.display.HTML object>"
            ]
          },
          "metadata": {},
          "output_type": "display_data"
        }
      ],
      "source": [
        "%%html\n",
        "<center>\n",
        "<iframe width=\"560\" height=\"315\" src=\"https://www.youtube.com/embed/e1xQJDLMHHE\" frameborder=\"0\" allow=\"accelerometer; encrypted-media; gyroscope; picture-in-picture\" allowfullscreen></iframe>\n",
        "</center>"
      ]
    },
    {
      "cell_type": "markdown",
      "metadata": {
        "hide_input": true,
        "id": "ywv6WJ42svr9"
      },
      "source": [
        "This is very similar to the Discrete Time Fourier transform formulation. We get a sum with aliasing components, just that we now don't have frequency shifts for the aliasing terms, but a **multiplication of their exponential functions** to z. Here we effectively shift the phase (or use rotation) of the complex number $z$ using this complex expoential. This also makes sense since the frequency information is contained in the phase of $z$, which we see if we replace $z=e^{j\\Omega}$.\n",
        "\n",
        "\n",
        "The next effect is the **removal or re-insertion of the zeros** from or into the signal. Let's again use our definition $y(m)=x^d(mN)$, meaning the y(m) is the signal without the zeros. Then the z-transform becomes,\n",
        "\n",
        "$$\\large\n",
        "Y(z)=\\sum _{ m=0} ^ \\infty y(m) z^{-m}=$$\n",
        "\n",
        "$$\\large\n",
        "=\\sum _{m=0} ^\\infty x^d(mN)z^{-m} \n",
        "$$\n",
        "\n",
        "Replacing the sum index m (the lower sampling rate) by the higher sampling rate n=mN, and observing that the sequence $x^d(n)$ contains the zeros, with $x^d(n)=0$ for $n\\neq mN$, this results in (using the index substitution $n=mN$)\n",
        "\n",
        "$$\\large\n",
        "=\\sum_{n=0} ^ \\infty x^d(n) z^{-n/N} =\n",
        "\\sum_{n=0} \n",
        "^\\infty x^d(n) (z^{1/N})^{-n}= X^d(z^{1/N})\n",
        "$$\n",
        "\n",
        "Observe the 1/N in the exponent of z!  In short, we get\n",
        "\n",
        "$$\\large\n",
        "Y(z)=X^d(z^{1/N})$$\n",
        "\n",
        "This **exponent 1/N** of z now correponds to the stretching of our frequency scale in the Fourier spectrum."
      ]
    },
    {
      "cell_type": "markdown",
      "metadata": {
        "hide_input": true,
        "id": "wdV5lu1Usvr_"
      },
      "source": [
        "## Modulation"
      ]
    },
    {
      "cell_type": "code",
      "execution_count": null,
      "metadata": {
        "hide_input": true,
        "id": "4zTJXswqsvr_",
        "outputId": "604e7c1e-8ac2-4ace-e259-929b13e8f2eb"
      },
      "outputs": [
        {
          "data": {
            "text/html": [
              "<center>\n",
              "<iframe width=\"560\" height=\"315\" src=\"https://www.youtube.com/embed/qtwHRFxaGjo\" frameborder=\"0\" allow=\"accelerometer; encrypted-media; gyroscope; picture-in-picture\" allowfullscreen></iframe>\n",
              "</center>\n"
            ],
            "text/plain": [
              "<IPython.core.display.HTML object>"
            ]
          },
          "metadata": {},
          "output_type": "display_data"
        }
      ],
      "source": [
        "%%html\n",
        "<center>\n",
        "<iframe width=\"560\" height=\"315\" src=\"https://www.youtube.com/embed/qtwHRFxaGjo\" frameborder=\"0\" allow=\"accelerometer; encrypted-media; gyroscope; picture-in-picture\" allowfullscreen></iframe>\n",
        "</center>"
      ]
    },
    {
      "cell_type": "markdown",
      "metadata": {
        "hide_input": false,
        "id": "7KG8mrV4svsB"
      },
      "source": [
        "Another very useful tool, which we already saw, is the **modulation**. This is the **multiplication** of our signal with a periodic function, for instance an exponential function. It can be written as\n",
        "\n",
        "$$\\large\n",
        "x_M(n):=x(n) \\cdot  e^{-j \\Omega_M \\cdot n}\n",
        "$$\n",
        "\n",
        "(where \"M\" denotes the modulation). Observe that the modulation function here has a periodicity of $2 \\pi/\\Omega_M$. Its z-transform hence becomes\n",
        "\n",
        "$$\\large\n",
        "X_M(z)=\\sum_ {n=0}^ \\infty x(n) \\cdot e^{-j\\Omega_M \\cdot n} \\cdot z^{-n}\n",
        "$$\n",
        "\n",
        "$$\\large\n",
        "X_M(z)=X( e^{j\\Omega_M} \\cdot z)\n",
        "$$\n",
        "\n",
        "here again we have this rotation (or phase shift) of z by an exponential factor."
      ]
    },
    {
      "cell_type": "markdown",
      "metadata": {
        "id": "beau0vPKsvsC"
      },
      "source": [
        "## Time-Reversal"
      ]
    },
    {
      "cell_type": "markdown",
      "metadata": {
        "hide_input": true,
        "id": "w7i8OOsusvsD"
      },
      "source": [
        "Another important tool is the **reversal of the ordering** of a finite length signal sequence, with length $L$ (meaning x(n) is non-zero only for $n=0,...L-1$),\n",
        "\n",
        "$$\\large\n",
        "x_r(n):=x(L-1-n).\n",
        "$$\n",
        "\n",
        "Its z-transform is:\n",
        "\n",
        "$$\\large\n",
        "X_r(z)= \\sum _{n=0} ^ \\infty x(L-1-n) \\cdot z^{-n}\n",
        "$$\n",
        "\n",
        "we can now reverse the order of the summation (of course without affecting the result) by starting at the highest index, going to the lowest, replacing the index  $n$ by the expression $L-1-n^{'}$(index substitution),\n",
        "\n",
        "$$\\large\n",
        "X_r(z)=\\sum_{n'=0}^\\infty x(n') \\cdot z^{-(L-1-n')}$$\n",
        "\n",
        "$$\\large\n",
        "=z^{-(L-1)}\\cdot X(z^{-1})\n",
        "$$\n",
        "\n",
        "or, in short,\n",
        "\n",
        "$$\\large\n",
        "X_r(z)=z^{-(L-1)}\\cdot X(z^{-1})$$\n",
        "\n",
        "(Remenber the z-transform was $X(z)=\\sum_{n=0} ^ \\infty x(n)z^{-n} $)\n",
        "\n",
        "\n",
        "So what we obtain is the inverse of z in the z-transform (which signifies the time reversal), and a factor of $z^{-(L-1)}$, which is simply a delay of L-1 samples! Important here is the inverse of z.\n",
        "\n",
        "What difference does this make in our Fourier spectrum, replacing z by $e^{j\\Omega}$? We obtain $X(-\\Omega)$ instead of $X(\\Omega)$. For **real valued** signals this only makes a **difference for the phases** of our frequency responses (they are sign flipped), because of the spectral symmetries for real valued signals.  The **magnitudes are identical**.\n",
        "\n",
        "\n",
        "This can still be of importance, for instance in filter banks with **aliasing cancellation**. Here the different signs also change the sign of the aliasing components, and that can make the difference between aliasing components cancelling between different bands or adding up!<br>\n",
        "\n",
        "\n",
        "For **complex valued** signals, the negative and positive frequencies can be **completely different**, and hence time-reversal would make a bigger difference. "
      ]
    }
  ],
  "metadata": {
    "kernelspec": {
      "display_name": "Python 3",
      "language": "python",
      "name": "python3"
    },
    "language_info": {
      "codemirror_mode": {
        "name": "ipython",
        "version": 3
      },
      "file_extension": ".py",
      "mimetype": "text/x-python",
      "name": "python",
      "nbconvert_exporter": "python",
      "pygments_lexer": "ipython3",
      "version": "3.7.4"
    },
    "colab": {
      "provenance": []
    }
  },
  "nbformat": 4,
  "nbformat_minor": 0
}