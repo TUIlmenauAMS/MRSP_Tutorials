{
  "cells": [
    {
      "cell_type": "markdown",
      "metadata": {
        "hide_input": false,
        "id": "TsDJ-pCV48zN"
      },
      "source": [
        "<img src=\"https://github.com/TUIlmenauAMS/MRSP_Tutorials/raw/master/seminars/images/msp_logo.png\" alt=\"msp_logo\" width=\"700\" >"
      ]
    },
    {
      "cell_type": "markdown",
      "source": [
        "# Seminar 01: Filter Design using Remez Algorithm"
      ],
      "metadata": {
        "id": "9mjZhVB_EA4p"
      }
    },
    {
      "cell_type": "code",
      "source": [
        "#@title\n",
        "%%html\n",
        "<iframe src=\"https://docs.scipy.org/doc/scipy/reference/generated/scipy.signal.remez.html\" height=\"400\" width=\"900\" title=\"SciPy Remez\"></iframe>"
      ],
      "metadata": {
        "colab": {
          "base_uri": "https://localhost:8080/",
          "height": 425
        },
        "cellView": "form",
        "id": "bj-G5E7UEWaJ",
        "outputId": "fa5afffb-8b9c-41d7-e579-7c0e51dc7eb6"
      },
      "execution_count": 4,
      "outputs": [
        {
          "output_type": "display_data",
          "data": {
            "text/plain": [
              "<IPython.core.display.HTML object>"
            ],
            "text/html": [
              "<iframe src=\"https://docs.scipy.org/doc/scipy/reference/generated/scipy.signal.remez.html\" height=\"400\" width=\"900\" title=\"SciPy Remez\"></iframe>"
            ]
          },
          "metadata": {}
        }
      ]
    },
    {
      "cell_type": "code",
      "source": [
        "#@title\n",
        "%%html\n",
        "<iframe src=\"https://en.wikipedia.org/wiki/Remez_algorithm\" height=\"400\" width=\"900\" title=\"Remez\"></iframe>\n"
      ],
      "metadata": {
        "colab": {
          "base_uri": "https://localhost:8080/",
          "height": 425
        },
        "cellView": "form",
        "id": "vhO2KUbAEiVY",
        "outputId": "73f68271-0a40-401b-c469-4306567d0ef2"
      },
      "execution_count": 5,
      "outputs": [
        {
          "output_type": "display_data",
          "data": {
            "text/plain": [
              "<IPython.core.display.HTML object>"
            ],
            "text/html": [
              "<iframe src=\"https://en.wikipedia.org/wiki/Remez_algorithm\" height=\"400\" width=\"900\" title=\"Remez\"></iframe>"
            ]
          },
          "metadata": {}
        }
      ]
    },
    {
      "cell_type": "code",
      "source": [
        "#@title\n",
        "%%html\n",
        "<iframe src=\"https://ieeexplore.ieee.org/document/1162525\" height=\"400\" width=\"900\" title=\"Iframe Example\"></iframe>"
      ],
      "metadata": {
        "colab": {
          "base_uri": "https://localhost:8080/",
          "height": 425
        },
        "cellView": "form",
        "id": "GNDBsEDSE2Nd",
        "outputId": "28d981f1-99ea-4b88-8430-48e96af24cb6"
      },
      "execution_count": 6,
      "outputs": [
        {
          "output_type": "display_data",
          "data": {
            "text/plain": [
              "<IPython.core.display.HTML object>"
            ],
            "text/html": [
              "<iframe src=\"https://ieeexplore.ieee.org/document/1162525\" height=\"400\" width=\"900\" title=\"Iframe Example\"></iframe>"
            ]
          },
          "metadata": {}
        }
      ]
    },
    {
      "cell_type": "markdown",
      "source": [
        "## SciPy Remez Example"
      ],
      "metadata": {
        "id": "6GnhBNWiFn7W"
      }
    },
    {
      "cell_type": "code",
      "source": [
        "from scipy import signal\n",
        "import matplotlib.pyplot as plt\n",
        "import numpy as np"
      ],
      "metadata": {
        "id": "mTLmbhweFJkX"
      },
      "execution_count": 18,
      "outputs": []
    },
    {
      "cell_type": "code",
      "source": [
        "def plot_response(fs, w, h, title):\n",
        "    \"Utility function to plot response functions\"\n",
        "    fig = plt.figure()\n",
        "    ax = fig.add_subplot(111)\n",
        "    ax.plot(0.5*fs*w/np.pi, 20*np.log10(np.abs(h)))\n",
        "    ax.set_ylim(-40, 5)\n",
        "    ax.set_xlim(0, 0.5*fs)\n",
        "    ax.grid(True)\n",
        "    ax.set_xlabel('Frequency (Hz)')\n",
        "    ax.set_ylabel('Gain (dB)')\n",
        "    ax.set_title(title)"
      ],
      "metadata": {
        "id": "NfzVQ65BFsYA"
      },
      "execution_count": 15,
      "outputs": []
    },
    {
      "cell_type": "code",
      "source": [
        "fs = 20000.0         # Sample rate, Hz\n",
        "band = [6000, 8000]  # Desired stop band, Hz\n",
        "trans_width = 200    # Width of transition from pass band to stop band, Hz\n",
        "numtaps = 175        # Size of the FIR filter.\n",
        "edges = [0, band[0] - trans_width, band[0], band[1], band[1] + trans_width, 0.5*fs]\n",
        "taps = signal.remez(numtaps, edges, [1, 0, 1], Hz=fs)\n",
        "w, h = signal.freqz(taps, [1], worN=2000)\n",
        "plot_response(fs, w, h, \"Band-stop Filter\")"
      ],
      "metadata": {
        "colab": {
          "base_uri": "https://localhost:8080/",
          "height": 295
        },
        "id": "M8ECMK2XFv7_",
        "outputId": "0b4594d7-8b59-4a62-e3b0-6935c7f6ac5f"
      },
      "execution_count": 17,
      "outputs": [
        {
          "output_type": "display_data",
          "data": {
            "text/plain": [
              "<Figure size 432x288 with 1 Axes>"
            ],
            "image/png": "[encoded data removed]"
          },
          "metadata": {
            "needs_background": "light"
          }
        }
      ]
    }
  ],
  "metadata": {
    "colab": {
      "name": "mrsp_seminar01_support.ipynb",
      "provenance": [],
      "collapsed_sections": []
    },
    "kernelspec": {
      "display_name": "Python 3",
      "language": "python",
      "name": "python3"
    },
    "language_info": {
      "codemirror_mode": {
        "name": "ipython",
        "version": 3
      },
      "file_extension": ".py",
      "mimetype": "text/x-python",
      "name": "python",
      "nbconvert_exporter": "python",
      "pygments_lexer": "ipython3",
      "version": "3.6.15"
    },
    "toc": {
      "base_numbering": 1,
      "nav_menu": {},
      "number_sections": true,
      "sideBar": true,
      "skip_h1_title": false,
      "title_cell": "Table of Contents",
      "title_sidebar": "Contents",
      "toc_cell": false,
      "toc_position": {},
      "toc_section_display": true,
      "toc_window_display": false
    }
  },
  "nbformat": 4,
  "nbformat_minor": 0
}