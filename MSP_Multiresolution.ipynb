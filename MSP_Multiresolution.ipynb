{
  "cells": [
    {
      "cell_type": "markdown",
      "metadata": {
        "id": "B_RufioNHzTP"
      },
      "source": [
        "<p align=\"center\">\n",
        "    <img src=\"https://github.com/TUIlmenauAMS/MRSP_Tutorials/blob/master/images/msp_header.png?raw=1\">\n",
        "</p>\n",
        "\n",
        "#### Prof. Dr. -Ing. Gerald Schuller <br> Jupyter Notebook: Renato Profeta\n",
        "\n"
      ]
    },
    {
      "cell_type": "code",
      "execution_count": 2,
      "metadata": {
        "id": "RvFfWpbcHzTV",
        "outputId": "b548607d-22c6-4824-ab62-1c324782033a",
        "colab": {
          "base_uri": "https://localhost:8080/"
        }
      },
      "outputs": [
        {
          "output_type": "stream",
          "name": "stdout",
          "text": [
            "Looking in indexes: https://pypi.org/simple, https://us-python.pkg.dev/colab-wheels/public/simple/\n",
            "Requirement already satisfied: matplotlib in /usr/local/lib/python3.10/dist-packages (3.7.1)\n",
            "Requirement already satisfied: contourpy>=1.0.1 in /usr/local/lib/python3.10/dist-packages (from matplotlib) (1.0.7)\n",
            "Requirement already satisfied: cycler>=0.10 in /usr/local/lib/python3.10/dist-packages (from matplotlib) (0.11.0)\n",
            "Requirement already satisfied: fonttools>=4.22.0 in /usr/local/lib/python3.10/dist-packages (from matplotlib) (4.39.3)\n",
            "Requirement already satisfied: kiwisolver>=1.0.1 in /usr/local/lib/python3.10/dist-packages (from matplotlib) (1.4.4)\n",
            "Requirement already satisfied: numpy>=1.20 in /usr/local/lib/python3.10/dist-packages (from matplotlib) (1.22.4)\n",
            "Requirement already satisfied: packaging>=20.0 in /usr/local/lib/python3.10/dist-packages (from matplotlib) (23.1)\n",
            "Requirement already satisfied: pillow>=6.2.0 in /usr/local/lib/python3.10/dist-packages (from matplotlib) (8.4.0)\n",
            "Requirement already satisfied: pyparsing>=2.3.1 in /usr/local/lib/python3.10/dist-packages (from matplotlib) (3.0.9)\n",
            "Requirement already satisfied: python-dateutil>=2.7 in /usr/local/lib/python3.10/dist-packages (from matplotlib) (2.8.2)\n",
            "Requirement already satisfied: six>=1.5 in /usr/local/lib/python3.10/dist-packages (from python-dateutil>=2.7->matplotlib) (1.16.0)\n",
            "fatal: destination path 'MRSP_Tutorials' already exists and is not an empty directory.\n",
            "mv: cannot move './MRSP_Tutorials/audio' to './audio': Directory not empty\n",
            "mv: cannot move './MRSP_Tutorials/binder' to './binder': Directory not empty\n",
            "mv: cannot move './MRSP_Tutorials/images' to './images': Directory not empty\n"
          ]
        }
      ],
      "source": [
        "# Environments Confguration\n",
        "\n",
        "# Google Colab\n",
        "inColab=False\n",
        "\n",
        "try:\n",
        "    import google.colab\n",
        "    from google.colab import widgets\n",
        "    inColab=True\n",
        "    \n",
        "    # Upgrade Matplotlib\n",
        "    !pip install matplotlib --upgrade\n",
        "    \n",
        "    # Clone Repository and change folders\n",
        "    !git clone https://github.com/TUIlmenauAMS/MRSP_Tutorials\n",
        "    !mv ./MRSP_Tutorials/* .\n",
        "    !rm -r MRSP_Tutorials\n",
        "    \n",
        "    # Imports \n",
        "    import scipy.signal as signal\n",
        "    from sympy import init_printing \n",
        "    def custom_latex_printer(exp,**options):\n",
        "        from google.colab.output._publish import javascript\n",
        "        url = \"https://cdnjs.cloudflare.com/ajax/libs/mathjax/2.7.6/latest.js?config=default\"\n",
        "        javascript(url=url)\n",
        "        return sympy.printing.latex(exp,**options)\n",
        "    init_printing(use_latex=\"mathjax\",latex_printer=custom_latex_printer)\n",
        "    \n",
        "except Exception as e:\n",
        "    if inColab:\n",
        "        print(\"Error in Congiguration.%s\" % e)\n",
        "        stop\n",
        "    \n",
        "    print(\"Not inside Google Colab: %s. Using standard configurations.\" % (e))\n"
      ]
    },
    {
      "cell_type": "markdown",
      "metadata": {
        "id": "tPp3ckc-HzTX"
      },
      "source": [
        "# Multiresolution"
      ]
    },
    {
      "cell_type": "code",
      "execution_count": null,
      "metadata": {
        "hide_input": true,
        "id": "cAXZCT_nHzTY",
        "outputId": "f6c9e307-457b-4f5f-9c15-baa41ee5d479",
        "colab": {
          "base_uri": "https://localhost:8080/",
          "height": 337
        }
      },
      "outputs": [
        {
          "output_type": "display_data",
          "data": {
            "text/plain": [
              "<IPython.core.display.HTML object>"
            ],
            "text/html": [
              "<iframe width=\"560\" height=\"315\" src=\"https://www.youtube.com/embed/O4m8fZHgl0c\" \n",
              "    frameborder=\"0\" allow=\"accelerometer; encrypted-media; gyroscope; picture-in-picture\" allowfullscreen></iframe>\n"
            ]
          },
          "metadata": {}
        }
      ],
      "source": [
        "%%html\n",
        "<iframe width=\"560\" height=\"315\" src=\"https://www.youtube.com/embed/O4m8fZHgl0c\" \n",
        "    frameborder=\"0\" allow=\"accelerometer; encrypted-media; gyroscope; picture-in-picture\" allowfullscreen></iframe>"
      ]
    },
    {
      "cell_type": "markdown",
      "metadata": {
        "id": "Aqi0lr-bHzTZ"
      },
      "source": [
        "# Uniform Filter Bank"
      ]
    },
    {
      "cell_type": "markdown",
      "metadata": {
        "id": "2mQdYC-aHzTa"
      },
      "source": [
        "Frequency Decomposition of a **uniform filter bank**:\n",
        "<p align=\"center\">\n",
        "    <img src=\"https://github.com/TUIlmenauAMS/MRSP_Tutorials/blob/master/images/uniformFB.PNG?raw=1\">\n",
        "</p>\n"
      ]
    },
    {
      "cell_type": "markdown",
      "metadata": {
        "id": "Z4ZE_y7bHzTa"
      },
      "source": [
        "**Example:** a spectrogram shows the amount of signal energy in each of those time/frequency rectangles (also called “tile” or “bin”). In Python a spectrogram is produced with the command “specgram” (in the pyplot library). "
      ]
    },
    {
      "cell_type": "code",
      "execution_count": null,
      "metadata": {
        "hide_input": true,
        "id": "7EqQgtOjHzTb",
        "outputId": "5ac024bf-8514-459d-cff5-eea271a74f3b",
        "colab": {
          "base_uri": "https://localhost:8080/",
          "height": 337
        }
      },
      "outputs": [
        {
          "output_type": "display_data",
          "data": {
            "text/plain": [
              "<IPython.core.display.HTML object>"
            ],
            "text/html": [
              "<iframe width=\"560\" height=\"315\" src=\"https://www.youtube.com/embed/H3EbSZ0ptpA\" frameborder=\"0\" allow=\"accelerometer; \n",
              "    encrypted-media; gyroscope; picture-in-picture\" allowfullscreen></iframe>\n"
            ]
          },
          "metadata": {}
        }
      ],
      "source": [
        "%%html\n",
        "<iframe width=\"560\" height=\"315\" src=\"https://www.youtube.com/embed/H3EbSZ0ptpA\" frameborder=\"0\" allow=\"accelerometer; \n",
        "    encrypted-media; gyroscope; picture-in-picture\" allowfullscreen></iframe>"
      ]
    },
    {
      "cell_type": "code",
      "execution_count": null,
      "metadata": {
        "id": "nCJ7HGiiHzTb",
        "outputId": "2c5f9ba4-ab3d-4e95-8756-976329ed2143",
        "colab": {
          "base_uri": "https://localhost:8080/",
          "height": 357
        }
      },
      "outputs": [
        {
          "output_type": "error",
          "ename": "FileNotFoundError",
          "evalue": "ignored",
          "traceback": [
            "\u001b[0;31m---------------------------------------------------------------------------\u001b[0m",
            "\u001b[0;31mFileNotFoundError\u001b[0m                         Traceback (most recent call last)",
            "\u001b[0;32m<ipython-input-13-57b0c9b79f5e>\u001b[0m in \u001b[0;36m<cell line: 6>\u001b[0;34m()\u001b[0m\n\u001b[1;32m      4\u001b[0m \u001b[0;32mif\u001b[0m \u001b[0;32mnot\u001b[0m \u001b[0minColab\u001b[0m\u001b[0;34m:\u001b[0m\u001b[0;34m\u001b[0m\u001b[0;34m\u001b[0m\u001b[0m\n\u001b[1;32m      5\u001b[0m     \u001b[0mget_ipython\u001b[0m\u001b[0;34m(\u001b[0m\u001b[0;34m)\u001b[0m\u001b[0;34m.\u001b[0m\u001b[0mrun_line_magic\u001b[0m\u001b[0;34m(\u001b[0m\u001b[0;34m'matplotlib'\u001b[0m\u001b[0;34m,\u001b[0m \u001b[0;34m'notebook'\u001b[0m\u001b[0;34m)\u001b[0m\u001b[0;34m\u001b[0m\u001b[0;34m\u001b[0m\u001b[0m\n\u001b[0;32m----> 6\u001b[0;31m \u001b[0mrate\u001b[0m\u001b[0;34m,\u001b[0m \u001b[0msnd\u001b[0m \u001b[0;34m=\u001b[0m \u001b[0mwav\u001b[0m\u001b[0;34m.\u001b[0m\u001b[0mread\u001b[0m\u001b[0;34m(\u001b[0m\u001b[0;34m'./audio/fantasy-orchestra.wav'\u001b[0m\u001b[0;34m)\u001b[0m\u001b[0;34m\u001b[0m\u001b[0;34m\u001b[0m\u001b[0m\n\u001b[0m\u001b[1;32m      7\u001b[0m \u001b[0mprint\u001b[0m\u001b[0;34m(\u001b[0m\u001b[0;34m\"Data Type:\"\u001b[0m\u001b[0;34m,\u001b[0m \u001b[0msnd\u001b[0m\u001b[0;34m.\u001b[0m\u001b[0mdtype\u001b[0m\u001b[0;34m)\u001b[0m\u001b[0;34m\u001b[0m\u001b[0;34m\u001b[0m\u001b[0m\n\u001b[1;32m      8\u001b[0m \u001b[0;31m#Convert to mono\u001b[0m\u001b[0;34m\u001b[0m\u001b[0;34m\u001b[0m\u001b[0m\n",
            "\u001b[0;32m/usr/local/lib/python3.10/dist-packages/scipy/io/wavfile.py\u001b[0m in \u001b[0;36mread\u001b[0;34m(filename, mmap)\u001b[0m\n\u001b[1;32m    645\u001b[0m         \u001b[0mmmap\u001b[0m \u001b[0;34m=\u001b[0m \u001b[0;32mFalse\u001b[0m\u001b[0;34m\u001b[0m\u001b[0;34m\u001b[0m\u001b[0m\n\u001b[1;32m    646\u001b[0m     \u001b[0;32melse\u001b[0m\u001b[0;34m:\u001b[0m\u001b[0;34m\u001b[0m\u001b[0;34m\u001b[0m\u001b[0m\n\u001b[0;32m--> 647\u001b[0;31m         \u001b[0mfid\u001b[0m \u001b[0;34m=\u001b[0m \u001b[0mopen\u001b[0m\u001b[0;34m(\u001b[0m\u001b[0mfilename\u001b[0m\u001b[0;34m,\u001b[0m \u001b[0;34m'rb'\u001b[0m\u001b[0;34m)\u001b[0m\u001b[0;34m\u001b[0m\u001b[0;34m\u001b[0m\u001b[0m\n\u001b[0m\u001b[1;32m    648\u001b[0m \u001b[0;34m\u001b[0m\u001b[0m\n\u001b[1;32m    649\u001b[0m     \u001b[0;32mtry\u001b[0m\u001b[0;34m:\u001b[0m\u001b[0;34m\u001b[0m\u001b[0;34m\u001b[0m\u001b[0m\n",
            "\u001b[0;31mFileNotFoundError\u001b[0m: [Errno 2] No such file or directory: './audio/fantasy-orchestra.wav'"
          ]
        }
      ],
      "source": [
        "import scipy.io.wavfile as wav \n",
        "import numpy as np\n",
        "import matplotlib.pyplot as plt\n",
        "if not inColab:\n",
        "    %matplotlib notebook\n",
        "rate, snd = wav.read('./audio/fantasy-orchestra.wav')\n",
        "print(\"Data Type:\", snd.dtype)\n",
        "#Convert to mono\n",
        "mono=np.around((snd[:,0]/2+snd[:,1]/2)).astype(np.int16)\n",
        "print(\"Array shape:\",mono.shape)   \n",
        "#A spectrogram with 1024 frequency bins:\n",
        "plt.specgram(mono+0.001,NFFT=1024, Fs=2)\n",
        "plt.xlabel('Time in FFT Blocks')\n",
        "plt.ylabel('Normalized Frequency')\n",
        "plt.show()"
      ]
    },
    {
      "cell_type": "code",
      "execution_count": null,
      "metadata": {
        "id": "L9Se-oDFHzTc"
      },
      "outputs": [],
      "source": [
        "# This Example will not work in Binder and Google Colab\n",
        "import pyaudio\n",
        "import struct\n",
        "from numpy import clip\n",
        "import numpy as np\n",
        "\n",
        "CHUNK = 1024 #Blocksize\n",
        "WIDTH = 2 #2 bytes per sample\n",
        "CHANNELS = 1 #2\n",
        "RATE = rate  #Sampling Rate in Hz\n",
        "p = pyaudio.PyAudio()\n",
        "\n",
        "stream = p.open(format=p.get_format_from_width(WIDTH),\n",
        "                channels=CHANNELS,\n",
        "                rate=RATE,\n",
        "                input=False,\n",
        "                output=True,\n",
        "                frames_per_buffer=CHUNK)   \n",
        "\n",
        "for i in range(0, int(len(mono) / CHUNK) ):\n",
        "    #converting from short integers to a stream of bytes in data:\n",
        "    samples=mono[i*CHUNK:((i+1)*CHUNK)];\n",
        "    samples=clip(samples,-2**15,2**15-1)\n",
        "    stream.write(samples.astype(np.int16),len(samples))   \n",
        "\n",
        "stream.stop_stream()\n",
        "stream.close()\n"
      ]
    },
    {
      "cell_type": "code",
      "execution_count": null,
      "metadata": {
        "id": "Tzc6mrQ6HzTd"
      },
      "outputs": [],
      "source": [
        "import IPython.display as ipd\n",
        "ipd.display(ipd.Audio('./audio/fantasy-orchestra.wav'))"
      ]
    },
    {
      "cell_type": "code",
      "execution_count": null,
      "metadata": {
        "id": "b3mvFygyHzTd"
      },
      "outputs": [],
      "source": [
        "import librosa\n",
        "import librosa.display\n",
        "x, sr = librosa.load('./audio/fantasy-orchestra.wav', sr=None, mono=True)\n",
        "print(\"Data Type:\", x.dtype)\n",
        "print(\"Array shape:\",x.shape)\n",
        "ipd.display(ipd.Audio(x, rate=sr))\n",
        "X = np.abs(librosa.stft(x,n_fft=2048, hop_length=256))\n",
        "X/=np.abs(X).max()\n",
        "plt.figure(figsize=(8, 6))\n",
        "plt.title('Guns N Roses-Sweet Child O Mine Intro - Spectrogram')\n",
        "librosa.display.specshow(X, sr=sr, hop_length=256, x_axis='time', y_axis='log', cmap='plasma')\n",
        "clb = plt.colorbar()\n",
        "clb.set_label('Magnitude Normalized')"
      ]
    },
    {
      "cell_type": "markdown",
      "metadata": {
        "id": "BVKIorRnHzTe"
      },
      "source": [
        "Here the color indicates the magnitude of the coefficient of the underlying FFT bin, at a given time and frequency:\n",
        " - Blue: low magnitude of the FFT coefficientss or samples.\n",
        " - Yellow: high magnitudes of the FFT coefficient or samples.\n",
        " \n",
        "Observe that the size of the time/frequency bins of the FFT is independent of time or frequency."
      ]
    },
    {
      "cell_type": "markdown",
      "metadata": {
        "id": "2J0Xgbj6HzTe"
      },
      "source": [
        "## Python Example for a Live Spectrogram and Aliasing:\n",
        "**This example won't wokr in Binder and Google Colab.**"
      ]
    },
    {
      "cell_type": "markdown",
      "metadata": {
        "id": "Pmp2AilFHzTe"
      },
      "source": [
        "To hear how aliasing sounds if we don't take care of the Shannon-Nyquist theorem, we can run the following example.\n",
        "\n",
        "**Observe:** You can hear high pitched artifacts in the voice. This is the aliasing and spectral copies.\n",
        "\n",
        "In the live spectrogram you can see the aliasing as spectral copies of the original into higher frequencies.\n",
        "Also observe how we can reduce the aliasing using the low pass filter. Then the higher spectral copies are attenuated, and we hear fewer artifacts.\n",
        "\n",
        "In this example we lost the upper 14 khz of our signal. To avoid this, we use so-called filter banks, which not only use a low pass, but also band passes and a high pass."
      ]
    },
    {
      "cell_type": "code",
      "execution_count": null,
      "metadata": {
        "hide_input": true,
        "id": "FyUYjJv-HzTf"
      },
      "outputs": [],
      "source": [
        "%%html\n",
        "<iframe width=\"560\" height=\"315\" src=\"https://www.youtube.com/embed/2uad3fU7X30\" frameborder=\"0\" \n",
        "        allow=\"accelerometer; encrypted-media; gyroscope; picture-in-picture\" allowfullscreen></iframe>"
      ]
    },
    {
      "cell_type": "code",
      "execution_count": null,
      "metadata": {
        "id": "gvdAfZcwHzTf"
      },
      "outputs": [],
      "source": [
        "# Imports and Configuration\n",
        "\n",
        "import pyaudio\n",
        "import numpy as np\n",
        "import scipy.signal as signal\n",
        "import struct\n",
        "import matplotlib.pyplot as plt\n",
        "from matplotlib.mlab import window_hanning,specgram\n",
        "from matplotlib.colors import LogNorm\n",
        "from matplotlib.ticker import FuncFormatter, MultipleLocator\n",
        "from ipywidgets import ToggleButton, Checkbox, Button\n",
        "from ipywidgets import HBox, interact\n",
        "import threading\n"
      ]
    },
    {
      "cell_type": "code",
      "execution_count": null,
      "metadata": {
        "id": "DAhsLuN9HzTf"
      },
      "outputs": [],
      "source": [
        "if not inColan:\n",
        "    %matplotlib notebook"
      ]
    },
    {
      "cell_type": "code",
      "execution_count": null,
      "metadata": {
        "id": "tjdU4loDHzTg"
      },
      "outputs": [],
      "source": [
        "# Parameters\n",
        "CHUNK_SIZE = 2048 #Blocksize\n",
        "CHANNELS = 1 # Audio Channes\n",
        "RATE = 32000  #Sampling Rate in Hz\n",
        "N=8.0     #Downsampling/Upsampling Rate\n",
        "FORMAT = pyaudio.paInt16 #conversion format for PyAudio stream\n",
        "NFFT = 1024 #NFFT value for spectrogram\n",
        "OVERLAP = 512 #overlap value for spectrogram"
      ]
    },
    {
      "cell_type": "code",
      "execution_count": null,
      "metadata": {
        "id": "9LF7TWFpHzTg"
      },
      "outputs": [],
      "source": [
        "# LP Filter\n",
        "[b,a]=signal.iirfilter(8, 1900.0/16000,rp=60,btype='lowpass')\n",
        "#Memory for the filter:\n",
        "zd=np.zeros(8)\n",
        "zu=np.zeros(8)\n",
        "LPFilterOn=False\n",
        "\n",
        "# LP Filter Frequency Response\n",
        "w, h = signal.freqz(b,a)\n",
        "f = w*16000/(np.pi)\n",
        "fig, ax1 = plt.subplots()\n",
        "plt.title('Digital filter frequency response')\n",
        "plt.plot(f, 20 * np.log10(abs(h)), 'b')\n",
        "plt.ylabel('Amplitude [dB]', color='b')\n",
        "plt.xlabel('Frequency [Hz]')\n",
        "plt.ylim((-80,5))\n",
        "plt.grid()\n",
        "ax2 = ax1.twinx()\n",
        "angles = np.unwrap(np.angle(h))\n",
        "plt.plot(f, angles, 'g')\n",
        "ax2.set_ylabel('Angle (radians)', color='g')\n",
        "ax2.axis('tight')\n",
        "plt.show()\n"
      ]
    },
    {
      "cell_type": "code",
      "execution_count": null,
      "metadata": {
        "id": "MoPgVecaHzTh"
      },
      "outputs": [],
      "source": [
        "# Function to Plot Spetrogram\n",
        "SamplingOn=False # Turn Donwsampling/Upsampling On/Off\n",
        "ctr=0 # Control for plotting\n",
        "def run_spectrogram(toggle_run):\n",
        "    global zd, zu, ctr, SamplingOn, LPFilterOn\n",
        "    while(True):\n",
        "        if toggle_run.value==True:\n",
        "            break\n",
        "            \n",
        "        #Reading from audio input stream into data with block length \"CHUNK\":\n",
        "        data_stream = stream.read(CHUNK_SIZE)\n",
        "        shorts = (struct.unpack( 'h' * CHUNK_SIZE, data_stream ));\n",
        "        samples=np.array(list(shorts),dtype=float);\n",
        "\n",
        "        #start block-wise signal processing:\n",
        "        #Low pass filter *before downsampling*:\n",
        "        if LPFilterOn==True:\n",
        "            [samples,zd]=signal.lfilter(b, a, samples, zi=zd)\n",
        "\n",
        "        #Compute a block/an array of a unit pulse train corresponding a downsampling rate of N:\n",
        "        #make unit pulse train with modulus function \"%\": \n",
        "        s=(np.arange(0,CHUNK_SIZE)%N)==0\n",
        "        #The sampling:\n",
        "        #multiply the signal with the unit pulse train:\n",
        "        if SamplingOn == True:\n",
        "            samples=samples*s;\n",
        "\n",
        "\n",
        "        #Lowpass filtering *after upsampling*:\n",
        "        #filter function:\n",
        "        if LPFilterOn==True:\n",
        "            [samples,zu]=signal.lfilter(b, a, samples, zi=zu)\n",
        "\n",
        "        #end signal processing\n",
        "\n",
        "        #play out samples:\n",
        "        samples=np.clip(samples, -32000,32000)\n",
        "        samples=samples.astype(int)\n",
        "        #converting from short integers to a stream of bytes in \"data\":\n",
        "        data=struct.pack('h' * len(samples), *samples);\n",
        "        #Writing data back to audio output stream: \n",
        "        stream.write(data, CHUNK_SIZE)\n",
        "\n",
        "        # Update Plot\n",
        "        if (ctr%4 ==0):\n",
        "            arr2D,freqs,bins = specgram(samples,window=window_hanning,\n",
        "                                        Fs = RATE,NFFT=NFFT,noverlap=OVERLAP)\n",
        "            im_data = im.get_array()\n",
        "            if ctr < 16:\n",
        "                im_data = np.hstack((im_data,arr2D))\n",
        "                im.set_array(im_data)\n",
        "            else:\n",
        "                keep_block = arr2D.shape[1]*(16 - 1)\n",
        "                im_data = np.delete(im_data,np.s_[:-keep_block],1)\n",
        "                im_data = np.hstack((im_data,arr2D))\n",
        "                im.set_array(im_data)\n",
        "            fig.canvas.draw()\n",
        "        ctr+=1"
      ]
    },
    {
      "cell_type": "code",
      "execution_count": null,
      "metadata": {
        "id": "cAU9t2hFHzTi"
      },
      "outputs": [],
      "source": [
        "# GUI\n",
        "toggle_run = ToggleButton(description='Stop')\n",
        "button_start= Button(description='Start')\n",
        "box_sampling = Checkbox(False, description='Downsampling/Upsampling')\n",
        "box_LPFilter = Checkbox(False, description='LP Filters')\n",
        "\n",
        "def start_button(button_start):\n",
        "    thread.start()\n",
        "    button_start.disabled=True\n",
        "button_start.on_click(start_button)\n",
        "\n",
        "\n",
        "def on_click_toggle_run(change):\n",
        "    if change['new']==False:\n",
        "        stream.stop_stream()\n",
        "        stream.close()\n",
        "        p.terminate()\n",
        "        plt.close()\n",
        "toggle_run.observe(on_click_toggle_run, 'value')\n",
        "\n",
        "def box_samping_changed(box_sampling):\n",
        "    global SamplingOn\n",
        "    if box_sampling['new']: \n",
        "        SamplingOn=True\n",
        "    else:\n",
        "        SamplingOn=False       \n",
        "box_sampling.observe(box_samping_changed, names='value')\n",
        "\n",
        "def box_LPFilter_changed(box_LPFilter):\n",
        "    global LPFilterOn\n",
        "    if box_LPFilter['new']: \n",
        "        LPFilterOn=True\n",
        "    else:\n",
        "        LPFilterOn=False       \n",
        "box_LPFilter.observe(box_LPFilter_changed, names='value')\n",
        "\n",
        "box_buttons = HBox([button_start,toggle_run])\n",
        "box_checkbox = HBox([box_sampling,box_LPFilter])"
      ]
    },
    {
      "cell_type": "code",
      "execution_count": null,
      "metadata": {
        "id": "2HP4dfeKHzTi"
      },
      "outputs": [],
      "source": [
        "# Create a Thread for run_spectrogram function\n",
        "thread = threading.Thread(target=run_spectrogram, args=(toggle_run,))"
      ]
    },
    {
      "cell_type": "code",
      "execution_count": null,
      "metadata": {
        "id": "fmXYjB1OHzTj"
      },
      "outputs": [],
      "source": [
        "# Start Audio Stream\n",
        "# Create \n",
        "p = pyaudio.PyAudio()\n",
        "    \n",
        "stream = p.open(format=FORMAT,\n",
        "                channels=CHANNELS,\n",
        "                rate=RATE,\n",
        "                input=True,\n",
        "                output=True,\n",
        "                frames_per_buffer=CHUNK_SIZE)\n",
        "\n",
        "\n",
        "\n",
        "input_data = stream.read(CHUNK_SIZE)\n",
        "samples = np.frombuffer(input_data,np.int16)"
      ]
    },
    {
      "cell_type": "code",
      "execution_count": null,
      "metadata": {
        "id": "mHkb3_b1HzTj"
      },
      "outputs": [],
      "source": [
        "# Initialize Plot and Display GUI\n",
        "\n",
        "display(box_buttons)\n",
        "display(box_checkbox)\n",
        "\n",
        "fig, ax = plt.subplots()\n",
        "arr2D,freqs,bins = specgram(samples,window=window_hanning,\n",
        "                                Fs = RATE,NFFT=NFFT,noverlap=OVERLAP)\n",
        "\n",
        "\n",
        "extent = (bins[0],bins[-1]*32,freqs[-1],freqs[0])\n",
        "im = plt.imshow(arr2D,aspect='auto',extent = extent,interpolation=\"none\",\n",
        "                     norm = LogNorm(vmin=.01,vmax=1))\n",
        "plt.xlabel('Time')\n",
        "plt.ylabel('Frequency (Hz)')\n",
        "plt.title('Live Spectogram')\n",
        "plt.gca().invert_yaxis()\n",
        "plt.xticks([])\n",
        "\n",
        "def handle_close(evt):\n",
        "    # When everything done, release the capture\n",
        "    stream.stop_stream()\n",
        "    stream.close()\n",
        "    p.terminate()\n",
        "    plt.close()\n",
        "plt.connect('close_event', handle_close);"
      ]
    },
    {
      "cell_type": "markdown",
      "metadata": {
        "id": "A94S4U11HzTk"
      },
      "source": [
        "# Non-Uniform Frequency Decomposition:"
      ]
    },
    {
      "cell_type": "code",
      "execution_count": null,
      "metadata": {
        "hide_input": true,
        "id": "vIdc6hHjHzTk"
      },
      "outputs": [],
      "source": [
        "%%html\n",
        "<iframe width=\"560\" height=\"315\" src=\"https://www.youtube.com/embed/lTy7mPKLoqE\" frameborder=\"0\" allow=\"accelerometer; \n",
        "    encrypted-media; gyroscope; picture-in-picture\" allowfullscreen></iframe>"
      ]
    },
    {
      "cell_type": "markdown",
      "metadata": {
        "id": "7fdMwgwEHzTk"
      },
      "source": [
        "**Example:** The so-called Discrete Wavelet Transform (DWT), the discrete time version of Wavelets, is basically a 2-band decomposition after each low pass filter, \n",
        "\n",
        "<p align=\"center\">\n",
        "    <img src=\"https://github.com/TUIlmenauAMS/MRSP_Tutorials/blob/master/images/wavelet_DWT.PNG?raw=1\">\n",
        "</p>\n",
        "\n",
        "This results in the following time-frequency decomposition,\n",
        "\n",
        "<p align=\"center\">\n",
        "    <img src=\"https://github.com/TUIlmenauAMS/MRSP_Tutorials/blob/master/images/wavelet_decomp.PNG?raw=1\">\n",
        "</p>"
      ]
    },
    {
      "cell_type": "markdown",
      "metadata": {
        "id": "iADRFOt9HzTl"
      },
      "source": [
        "# Frequency Domain and Notation"
      ]
    },
    {
      "cell_type": "code",
      "execution_count": null,
      "metadata": {
        "hide_input": true,
        "id": "WOkjdYB8HzTl"
      },
      "outputs": [],
      "source": [
        "%%html\n",
        "<iframe width=\"560\" height=\"315\" src=\"https://www.youtube.com/embed/lZnLJAAtDi4\" frameborder=\"0\" allow=\"accelerometer; \n",
        "    encrypted-media; gyroscope; picture-in-picture\" allowfullscreen></iframe>"
      ]
    },
    {
      "cell_type": "markdown",
      "metadata": {
        "id": "8xTRMgNWHzTm"
      },
      "source": [
        "- The sign \":=\" means \"defined as\", for instance a:=b.\n",
        "- We will use letters like t,T, f for continuous values, and n,m,k,l for discrete values.\n",
        "- We will use lower case letters for time domain signals, like x(n) , and upper case letters for transform domain signals, like X(ω) or X(z) .\n",
        "- We will use bold face letters to denote vectors or matrices in both time domain and transform domain, like $\\textbf{x}(m)$ or $\\textbf{X}(z)$.\n",
        "- The conjugate complex operation is symbolized with a superscript asterisk, like $x^*(n)$.\n",
        "- For transform domain signals, like X (z) , the asterisk ( $X^*(z)$ ) denotes the conjugate complex operation on their coefficients only, not on their argument z .\n",
        "- The overline $\\overline{X(z)}$ denotes the conjugate complex operation on the final result, meaning including the argument z. \n",
        "- E(x) is the \"expectation\" of x(n) , for our purposes the average of x(n).\n",
        "- $\\downarrow N$ Symbolizes downsampling by a factor of N. If x(n) is the signal we downsample, then we also write the downsampled signal as \n",
        "$$x_{n_0}^{\\downarrow N}(m):=x(mN+n_0)$$, \n",
        "where $n_0$ is the index of the first sample we keep in the downsampling, or the “phase”, with 0⩽n0⩽N−1.\n",
        "- $\\uparrow N$ symbolizes upsampling by a factor of N, including insertion of the zeros. If y(m) is the signal we upsample, then we also write the upsampled signal as \n",
        "$$\\begin{equation}\n",
        "    y_{n_0}^{\\uparrow N}(m)\n",
        "    \\begin{cases}\n",
        "      y(m), & \\text{if}\\ n=mN+n_0 \\\\\n",
        "      0, & \\text{elsewhere}\n",
        "    \\end{cases}\n",
        "  \\end{equation}$$\n",
        ",where $n_0$ is the index of the first non-zero sample in the upsampled signal, or the phase, with 0⩽n0⩽N−1 .\n",
        "\n"
      ]
    },
    {
      "cell_type": "markdown",
      "metadata": {
        "id": "uNvvNfdEHzTm"
      },
      "source": [
        "# Common Types of Frequency Transforms"
      ]
    },
    {
      "cell_type": "markdown",
      "metadata": {
        "id": "yr8SEAQSHzTn"
      },
      "source": [
        "### Discrete Time Fourier Transform (DTFT)"
      ]
    },
    {
      "cell_type": "code",
      "execution_count": null,
      "metadata": {
        "hide_input": true,
        "id": "YXTTV0deHzTn"
      },
      "outputs": [],
      "source": [
        "%%html\n",
        "<iframe width=\"560\" height=\"315\" src=\"https://www.youtube.com/embed/_Z90A_bVrRs\" frameborder=\"0\" allow=\"accelerometer; \n",
        "    encrypted-media; gyroscope; picture-in-picture\" allowfullscreen></iframe>"
      ]
    },
    {
      "cell_type": "markdown",
      "metadata": {
        "id": "cZCo9GvTHzTo"
      },
      "source": [
        "It is **time-discrete:** Our signal is sampled with sampling interval T, hence our samples only exist at the sampling  time-points $t=nT$ (with n integer) or $t=n/f_s$, with the sampling frequency $f_s=1/T$. With an infinite signal length in time we get the forward DTFT:<br>\n",
        " \n",
        "$$\n",
        "X(e^{j \\omega} )=\\sum _ {n= -\\infty} ^ {\\infty} x(n) e ^{-j (2 \\pi f/f_s) \\cdot n} =\\sum _ {n= -\\infty} ^{\\infty} x(n) e ^{-j \\omega \\cdot n}\n",
        "$$\n",
        "\n",
        "where $w=2\\pi f /f_s$ is the **normalized (angular) frequency**, normalized to the sampling frequency.<br>\n",
        "<br>\n",
        "Properties: **Continuous in frequency** (because it is not periodic in time in general) and $2\\pi$ periodic in frequency.<br>\n",
        "\n",
        "(remember: $e^{j \\omega}=cos(\\omega) + j sin(\\omega)$, hence $e^{j (\\omega+2\\pi)}=e^{j \\omega}$). Also for n>1 we have a $2\\pi$ periodicity, even a $2\\pi /n$ periodicity, which in the sum adds up to a $2\\pi$ periodicity. If $w=2\\pi$ then $f=f_s$ is the sampling frequency, and for $\\omega=\\pi$ then $f=\\frac{1}{2}f_s$is half the sampling frequency, which we also call the **Nyquist Frequency**.\n",
        "<br><br>\n",
        "**Observe:** If one domain is **discrete,** the other domain is **periodic**!<br>\n",
        "<br>\n",
        "The **Inverse** Discrete Time Fourier Transform is\n",
        "<br>\n",
        "$$x(n)=  \\frac{1} {2 \\pi} \\cdot \\int _ {\\omega=-\\pi} ^\\pi X(e^{j\\omega}) e^{j \\omega n} d \\omega \n",
        "$$\n",
        "\n",
        "\n",
        "A **convolution** in time becomes a multiplication in the DTFT domain:\n",
        "<br>\n",
        "$$\n",
        "x( n )*y( n ) \\rightarrow X( \\omega ) \\cdot Y( \\omega )\n",
        "$$\n",
        "(remember: a convolution is defined as $$y(n)=x(n)*h(n)=\\sum _{m=-\\infty} ^ \\infty x(m) \\cdot h(n-m)$$, which is mathematically more complicated than a simple multiplication in the transform domain!)\n",
        "<br>"
      ]
    },
    {
      "cell_type": "markdown",
      "metadata": {
        "id": "ZxdVsv9YHzTo"
      },
      "source": [
        "### Discrete Fourier Transform (DFT)"
      ]
    },
    {
      "cell_type": "code",
      "execution_count": null,
      "metadata": {
        "hide_input": true,
        "id": "jMYmXQ6tHzTo"
      },
      "outputs": [],
      "source": [
        "%%html\n",
        "<iframe width=\"560\" height=\"315\" src=\"https://www.youtube.com/embed/9njAZ3fTXa8\" frameborder=\"0\" allow=\"accelerometer; \n",
        "    encrypted-media; gyroscope; picture-in-picture\" allowfullscreen></iframe>"
      ]
    },
    {
      "cell_type": "markdown",
      "metadata": {
        "id": "xbpgzaPGHzTp"
      },
      "source": [
        "It is **time-discrete** and **finite in time** with signal length of N samples, where it is assumed that beyond this signal block the signal is periodic with period N. The forward transform is defined as, \n",
        "<br>\n",
        "\n",
        "$$\n",
        "X(k) =\\sum _ {n= 0}^ {N-1} x(n) e^{-j \\frac{2\\pi} { N} \\cdot k \\cdot n}$$\n",
        "with the discrete frequency index $k=0,...,N-1$.<br>\n",
        "We transform N samples in the time domain into N samples in the frequency domain.<br>\n",
        "\n",
        "**Observe:** we obtain the **DFT from the DTFT** as a special case, if we take the finite length signal $x(n)$ and make it **periodic** by repeating it infinitely many times into the future and the past. Then we apply the DTFT to it, and we obtain a **discrete spectrum**, since the signal is periodic. The spectrum consists of the **fundamental frequency**, which is the inverse of the length of $x(n)$, and of its **harmonics at multiple frequencies of the fundamental frequency**. The coefficients of these frequencies are output of the DFT.<br>\n",
        "In **Python:**<br>\n",
        "\n",
        "```scipy.fftpack.fft(..)```<br>\n",
        "<br>\n",
        "\n",
        "**Properties: Discrete in frequency**, because of finite extend in time, **periodic in time**. Hence the frequency index is now k and an integer number between 0 and N-1. It is periodic in frequency, with period N, because it is discrete in time (k=N corresponds to the normalized frequency $2\\pi$, our sampling frequency). <br>\n",
        "\n",
        "Its **inverse transform** is:<br>\n",
        "$$\n",
        "x(n) = \\frac{1}{ N} \\sum _ {k= 0} ^ {N-1} X(k) e ^{j \\frac{2\\pi} {N} \\cdot k \\cdot n}\n",
        "$$<br>\n",
        "In **Python:**<br>\n",
        "```scipy.fftpack.ifft(..)```<br>\n",
        "\n",
        "Since the DFT assumes the signal to be **periodic** with period N, the convolution of this periodic signal, called **circular convolution**, becomes a multiplication in the DFT domain.<br>\n",
        "$$\n",
        "x( n ) *_c y( n ) \\rightarrow X( \\omega ) \\cdot Y( \\omega )\n",
        "$$\n",
        "\n",
        "where the circular convolution is\n",
        "<br>\n",
        "$$\n",
        "x( n ) *_c y( n ) :=\\sum _ {n'=0} ^ {N-1} x( n' ) \\cdot y( (n-n')\\text {mod N} )\n",
        "$$\n",
        "where $mod$ is the Modulus function, which is the remainder after division by N, and is between 0 and N-1. Corresponds to the Python numpy function “remainder”. \n",
        "<br><br>\n",
        "\n",
        "\n",
        "**Observe:** A finite/periodic signal in time leads to a discrete spectrum, and a sampled, time-discrete signal leads to a periodic spectrum. Because of the symmetry between time and frequency the same holds also the other way around (discrete frequency → periodic time, periodic frequency → discrete time).<br>"
      ]
    },
    {
      "cell_type": "markdown",
      "metadata": {
        "id": "3PMtVTJ7HzTp"
      },
      "source": [
        "### Discrete Cosine Transform (DCT)"
      ]
    },
    {
      "cell_type": "code",
      "execution_count": null,
      "metadata": {
        "hide_input": true,
        "id": "GP7fySvhHzTz"
      },
      "outputs": [],
      "source": [
        "%%html\n",
        "<iframe width=\"560\" height=\"315\" src=\"https://www.youtube.com/embed/364IycaXXDE\" frameborder=\"0\" allow=\"accelerometer; \n",
        "    encrypted-media; gyroscope; picture-in-picture\" allowfullscreen></iframe>"
      ]
    },
    {
      "cell_type": "markdown",
      "metadata": {
        "id": "vL8pJd8cHzT0"
      },
      "source": [
        "Another widely used block transform is the Discrete Cosine Transform. The so-called **DCT Type 4** is defined as<br>\n",
        "\n",
        "$$\n",
        "y_k(m)=\\sqrt{\\frac{2}{ N}} \\sum _ {n=0}^ {N-1} x(mN+n) \\cdot  cos \\left(\\frac{\\pi} {N} (n+0.5)(k+0.5) \\right)\n",
        "$$\n",
        "for the analysis (k=0,...,N-1). Characteristic here is the shift of 0.5 in the subband index k and the time index n. Observe the index m, it is the block index, used for processing streams.<br><br>\n",
        "In **Python:**<br>\n",
        "```scipy.fftpack.dct(..,norm='ortho')```<br>\n",
        "Unfortunately, the fftpack only has the dct types 1 to 3, and not 4. The type 4 can be obtained using the type 3.<br>\n",
        "For instance:"
      ]
    },
    {
      "cell_type": "code",
      "execution_count": null,
      "metadata": {
        "id": "8cdVQG0ZHzT0"
      },
      "outputs": [],
      "source": [
        "def DCT4(samples):\n",
        "    \"\"\"samples : (1D Array) Input samples    \n",
        "     to be transformed\n",
        "     Returns:y (1D Array) Transformed  \n",
        "    output samples\n",
        "    \"\"\"\n",
        "    import numpy as np\n",
        "    import scipy.fftpack as spfft\n",
        "    N=len(samples)\n",
        "    # Initialize\n",
        "    samplesup=np.zeros(2*N)\n",
        "    # Upsample signal:\n",
        "    samplesup[1::2]=samples      \n",
        "    y = spfft.dct(samplesup,type=3,\n",
        "    norm='ortho')*np.sqrt(2)\n",
        "    return y[0:N]"
      ]
    },
    {
      "cell_type": "markdown",
      "metadata": {
        "id": "hWbKHsm5HzT0"
      },
      "source": [
        "The **inverse DCT 4** transform is\n",
        "<br>\n",
        "$$\n",
        "x(mN+n)=\\sqrt{\\frac{2}{ N}} \\sum _{k=0} ^ {N-1} y_k(m) \\cdot  cos \\left(\\frac{\\pi}{N} (n+0.5)(k+0.5) \\right)\n",
        "$$<br>\n",
        "Observe that it is identical to the forward transform. In general, the DCT-4 inverse is identical to its forward transform, but up to a factor. If this factor is 1, then it is an “orthonormal” transform. The python function needs an argument norm=’ortho’ for this property.<br><br> \n",
        "In **Python:**<br>\n",
        "\n",
        "```scipy.fftpack.idct(..,norm='ortho')```<br>\n",
        "again, type 4 can be obtained using type 3, and is the **same function** as the forward transform.<br><br>\n",
        "\n",
        "Also observe: The DCT provides twice the subband “density” compared to the DFT, the frequency distance between 2 neighboring subbands is only half as much as for the DFT, which can be seen at the factor of $\\pi/N$ instead of $2\\pi/N$ at the DFT.\n",
        "<br>\n"
      ]
    },
    {
      "cell_type": "markdown",
      "metadata": {
        "id": "LzYeilGNHzT1"
      },
      "source": [
        "### The z-Transform"
      ]
    },
    {
      "cell_type": "code",
      "execution_count": null,
      "metadata": {
        "hide_input": true,
        "id": "XzP3A8eqHzT1"
      },
      "outputs": [],
      "source": [
        "%%html\n",
        "<iframe width=\"560\" height=\"315\" src=\"https://www.youtube.com/embed/L9e4DrvX-lw\" frameborder=\"0\" allow=\"accelerometer; \n",
        "    encrypted-media; gyroscope; picture-in-picture\" allowfullscreen></iframe>"
      ]
    },
    {
      "cell_type": "markdown",
      "metadata": {
        "id": "9PyEDW_eHzT1"
      },
      "source": [
        "Recall that the Discrete Time Fourier Transform is:\n",
        "<br>\n",
        "\n",
        "$$\n",
        "X(e^{j\\omega}) =\\sum_{n=-\\infty}^ \\infty x(n) e^{-jn\\omega}$$\n",
        "In reduced notation:\n",
        "<br>\n",
        "$$\n",
        "X({\\omega}) = \\sum _ {n=-\\infty} ^\\infty x(n) e^{-jn\\omega}\n",
        "$$\n",
        "\n",
        "Observe that the expression $e^{j\\omega}$ is a complex number on the unit circle on the complex plane. We can replace it  by a more general complex number z, which does not need to be on the unit circle, and obtain the **z-transform**:<br>\n",
        "$$\n",
        "X(z) = \\sum _ {n=-\\infty}^ \\infty x(n) z^{-n}\n",
        "$$\n",
        "<br>\n",
        "**Observe:** The z-transform simply turns a **sequence** into a **polynomial!**<br>\n",
        "In **Python** for the z-transform of a finite length sequence $x(n)$ is:<br>\n",
        "\n",
        "```z=sympy.symbols('z')```<br>\n",
        "```xz=sympy.Poly(np.flipud(x), z**(-1))```<br>\n",
        "\n",
        "The z-transform is more powerful because it is more general. Using it we can also determine, for instance, if a system or a signal has damping on it (in that case the signal would be inside the unit circle). Also, we can compute the z-transform even for unstable signals or systems (a pole outside the unit circle, exponentially growing signals), which would not be possible for the DTFT, because its sum would not converge.<br><br>\n",
        "**Observe:** This is the so-called two-sided z-transform, because the time-index n is running from minus infinity to infinity, hence it already existed for an infinite time. Usually we only deal with causal signals, which start at a certain point in time, and this yields the one-sided z-transform, which starts at n=0:\n",
        "<br>\n",
        "$$\n",
        "X(z) = \\sum _ {n=0} ^ \\infty x(n) z^{-n}\n",
        "$$\n",
        "\n",
        "**Convolution** in time becomes a **multiplication** in the z-domain.   <br>\n",
        "$$\n",
        "x(n) * y(n) \\rightarrow X( z ) \\cdot Y( z )\n",
        "$$\n",
        "\n",
        "\n",
        "**Example:** Linear Audio amplifier and an audio input signal. The frequency response of the amplifier can be H(z) or $H(\\omega)$ (depending on the transform), and the frequency response or spectrum of the signal would be X(z) or $X(\\omega)$. The output of the amplifier would be Y(z)=X(z)H(z) or $Y(\\omega)=X(\\omega)\\cdot H(\\omega)$. We basically multiply the frequency components of our signal with the attenuation or gain at that frequency of the amplifier. Basically H is the frequency response of our amplifier.<br><br>\n",
        "\n",
        "Observe that **unlike a convolution** in the time domain, we can **invert the multiplication** in the frequency domain. This is a principle that is used for instance for equalizers, who try to flatten the amplifier frequency response by having a frequency response which is inverse to the frequency response of the amplifier (at each frequency bin).<br><br>\n",
        "\n",
        "The **inverse** $z$ -transform is\n",
        "<br>\n",
        "$$\n",
        "x(n)=\\frac{1}{2\\pi j}\\oint_c X(z) z^{n-1} dz\n",
        "$$\n",
        "\n",
        "where $C$ is a closed contour in the complex z-plane which contains all poles of $X(z)$ in its inside, and its path is followed counter-clockwise in the mathematically positive sense.<br><br>\n",
        "\n",
        "If we have a causal, stable z-transform $X(z)$ then all poles are inside the unit circle, hence our contour $C$ can be the unit circle around the origin, and we can set $z=e^{j\\omega}$ for $0\\leq \\omega \\leq 2\\pi$. We can now apply an integration variable substitution\n",
        "<br>\n",
        "$$\n",
        "\\frac{dz}{d\\omega}=j e^{j \\omega}\n",
        "$$\n",
        "$$\\rightarrow dz=d\\omega \\cdot j e^{j\\omega}$$<br> \n",
        "(using the so-called Leibnitz notation).<br>\n",
        "Now the contour integral becomes\n",
        "<br>\n",
        "\n",
        "$$\n",
        "x(n)=\\frac{1}{2\\pi j} \\oint_c  X(z) z^{n-1} dz$$\n",
        "<br>\n",
        "$$\n",
        "x(n)=\\frac{1}{2\\pi j} \\int_{\\omega=0}^{2\\pi} X(e^{j \\omega}) e^{j \\omega (n-1)} d\\omega \\cdot j  e^{j \\omega}\n",
        "$$\n",
        "<br>\n",
        "\n",
        "$$\n",
        "=\\frac{1} {2\\pi} \\int_{\\omega=0}^{2\\pi} X(e^{j \\omega}) e^{j \\omega n} d\\omega \n",
        "$$\n",
        "<br>\n",
        "Now we can see that the last line is **identical** to the **inverse DTFT**, which means that for **causal stable** signals or systems the inverse z-transform becomes identical to the inverse DTFT.<br><br>\n",
        "**Observe:** Finte length sequences are always causal and stable, hence their inverse z-Transform becomes the inverse DTFT, which is the **coefficients** of the z-Transform **polynomial**.<br><br>\n",
        "Inverse z-tramsform for finite length sequences in **Python**:<br>\n",
        "```y=np.flipud(yz.coeffs())```<br>\n",
        "\n",
        "\n",
        "**Observe** that we have transform pairings of:<br>\n",
        "\n",
        "- periodic time - discrete frequency, and \n",
        "- discrete time - periodic frequency.\n",
        "\n",
        "**Observe:** In practice we always have **discrete finite signals,** which are assumed to be periodically continued into infinity. Hence our **frequency domain** will be **discrete and periodic.**<br><br>\n",
        "\n"
      ]
    },
    {
      "cell_type": "markdown",
      "metadata": {
        "id": "sCb_5ARLHzT2"
      },
      "source": [
        "### z-Transform Python Examples"
      ]
    },
    {
      "cell_type": "code",
      "execution_count": null,
      "metadata": {
        "hide_input": true,
        "id": "qUqmIlQfHzT2"
      },
      "outputs": [],
      "source": [
        "%%html\n",
        "<iframe width=\"560\" height=\"315\" src=\"https://www.youtube.com/embed/n4keW_vluJA\" frameborder=\"0\" allow=\"accelerometer; \n",
        "    encrypted-media; gyroscope; picture-in-picture\" allowfullscreen></iframe>"
      ]
    },
    {
      "cell_type": "markdown",
      "metadata": {
        "id": "BtpCRGDRHzT4"
      },
      "source": [
        "**Example:** x(n) is an exponentially decaying function, starting at n=0 with x(0)=1, <br>\n",
        "<br>$$x(n):= \\begin{cases}\n",
        "        \\begin{split}\n",
        "            0.5^n &\\text{ for  n>= 0}\\\\ 0, & else\n",
        "        \\end{split}\n",
        "    \\end{cases}\n",
        "$$<br>\n",
        "$$\n",
        "\\rightarrow X(z)=\\sum _ {n=0} ^\\infty (0.5 \\cdot z^{-1})^{n}= \\frac{1}  {1-0.5 \\cdot z^{-1}}\n",
        "$$\n",
        "\n",
        "Observe that the sum of the z-transform converges for $\\mid z\\mid > 0.5$. This is also called the „Region of Convergence“ (ROC).<br><br>\n",
        "\n",
        "Here we can also see that we obtain a pole of the expression for z=0.5.\n",
        "<br><br>\n",
        "In this way we can also see what time signal corresponds to a pole (a exponential time function). We have a **correspondence:**<br> \n",
        "**exponential time** function- **pole** in z-domain\n",
        "<br><br>\n",
        "**Explanation for the geometric sum:**<br>\n",
        "A geometric sum has the following form:\n",
        "$$\n",
        "S=\\sum _ {n=0} ^ N a^n\n",
        "$$\n",
        "with some constant a. What is S?<br>\n",
        "We apply a trick: compute a.S:<br>\n",
        "$$\n",
        "a \\cdot S= \\sum _ {n=0} ^ N a^{(n+1)}=\\sum _ {n=1} ^ {N+1} a^n\n",
        "$$\n",
        "Now take aS-S:<br>\n",
        "\n",
        "$$\n",
        "S \\cdot (a-1)=aS-S=a^{N+1}-1\n",
        "$$<br><br>\n",
        "$$\n",
        "S=  \\frac{a^{N+1}-1} {a-1}=\\frac{1-a^{N+1}} {1-a}\n",
        "$$\n",
        "Hence we get:\n",
        "<br>\n",
        "$$\n",
        "\\sum _{n=0} ^ N (0.5 \\cdot z^{-1})^{n}=\\frac{1-(0.5 \\cdot z^{-1})^{N+1}} {1-(0.5 \\cdot z^{-1})}\n",
        "$$<br>\n",
        "We have $N \\rightarrow \\infty$ and a stable system where the magnitude or our factor is smaller than 1 (something we need for convergence, see above), and we get:<br>\n",
        "$$\\sum _ {n=0} ^ \\infty (0.5 \\cdot z^{-1})^{n}=\\frac{1}  {1-(0.5 \\cdot z^{-1})}$$\n"
      ]
    },
    {
      "cell_type": "code",
      "execution_count": null,
      "metadata": {
        "id": "tDHUAcqwHzT4"
      },
      "outputs": [],
      "source": [
        "# Sympy Geometric Sum\n",
        "import sympy as sp\n",
        "n = sp.Symbol('n')\n",
        "N = sp.Symbol('N')\n",
        "z = sp.Symbol('z')\n",
        "geo_sum=sp.summation((0.5*z**-1)**n, (n, 0, N))\n",
        "geo_sum"
      ]
    },
    {
      "cell_type": "code",
      "execution_count": null,
      "metadata": {
        "id": "YHG6J7-HHzT5"
      },
      "outputs": [],
      "source": [
        "#simple example for signal sequence x and filter impulse response h:\n",
        "x=[1,2,3,4]\n",
        "h=[1,2]\n",
        "\n",
        "#z-Transform, turn sequence into\n",
        "# polynomial, in z-transf. Order:\n",
        "#\n",
        "import sympy\n",
        "import numpy as np\n",
        "z=sympy.symbols('z')\n",
        "xz=sympy.Poly(np.flipud(x), z**(-1))\n",
        "xz"
      ]
    },
    {
      "cell_type": "code",
      "execution_count": null,
      "metadata": {
        "id": "nh6SBYnHHzT5"
      },
      "outputs": [],
      "source": [
        "hz=sympy.Poly(np.flipud(h), z**(-1))\n",
        "hz"
      ]
    },
    {
      "cell_type": "markdown",
      "metadata": {
        "id": "ga50SEhPHzT5"
      },
      "source": [
        "Multiplication in the z-Domain:\n",
        "$$Y( z )= X( z ) \\cdot H( z ) $$"
      ]
    },
    {
      "cell_type": "code",
      "execution_count": null,
      "metadata": {
        "id": "GDhKNA_PHzT6"
      },
      "outputs": [],
      "source": [
        "yz=xz*hz\n",
        "yz"
      ]
    },
    {
      "cell_type": "markdown",
      "metadata": {
        "id": "3limhCrrHzT6"
      },
      "source": [
        "Inverse z-transform, turn polynomial into coefficients, in z-transf. Order (works for Finite Impulse Response systems):\n",
        "<br>\n",
        "$$\n",
        "y(n)=\\frac{1}{2\\pi j}\\oint_c Y(z) z^{n-1} dz$$"
      ]
    },
    {
      "cell_type": "code",
      "execution_count": null,
      "metadata": {
        "id": "MKgk2cZeHzT6"
      },
      "outputs": [],
      "source": [
        "y=np.flipud(yz.coeffs())\n",
        "print(y)"
      ]
    },
    {
      "cell_type": "markdown",
      "metadata": {
        "id": "aHw-OyfgHzT6"
      },
      "source": [
        "Convolution in time domain:\n",
        "$$\n",
        "x(n)*h(n)\n",
        "$$\n"
      ]
    },
    {
      "cell_type": "code",
      "execution_count": null,
      "metadata": {
        "id": "JtWpBKX4HzT6"
      },
      "outputs": [],
      "source": [
        "import numpy as np\n",
        "np.convolve(x,h)"
      ]
    },
    {
      "cell_type": "markdown",
      "metadata": {
        "id": "b8hMST49HzT7"
      },
      "source": [
        "**Observe:** samples after convolution are identical to polynomial coefficients after z-Transform above.<br>\n",
        "But convolve is usually faster than symbolic calculation.<br>\n",
        "<br>\n",
        "Convolution as sum:<br>\n",
        "$$\n",
        "y ( n ) =x ( n ) *h ( n ) = \\sum _{l=0 } ^{L-1}  x ( n - l ) \\cdot h ( l )   \n",
        "$$"
      ]
    },
    {
      "cell_type": "code",
      "execution_count": null,
      "metadata": {
        "id": "2nykP3zSHzT7"
      },
      "outputs": [],
      "source": [
        "Nx=len(x)\n",
        "Nh=len(h)\n",
        "#convolution length:\n",
        "Deg=Nx+Nh-1\n",
        "y=np.zeros(Deg)\n",
        "#loop over convolution index:\n",
        "for n in range(0,(Deg)):\n",
        "    #loop over sum index:\n",
        "    for l in range(0,n+1):\n",
        "        #only over parts where x and y \n",
        "        #are defined:\n",
        "        if ((n-l)<Nx and l<Nh):\n",
        "            y[n] = y[n]+ x[(n-l)]*h[l];\n",
        "print(y)"
      ]
    },
    {
      "cell_type": "markdown",
      "metadata": {
        "id": "qrj1FjnRHzT7"
      },
      "source": [
        "**Observe:** We get again the same result as above, as expected.\n"
      ]
    },
    {
      "cell_type": "markdown",
      "metadata": {
        "id": "lX5IWiaQHzT7"
      },
      "source": [
        "### The Short-Time Fourier Transform (STFT)"
      ]
    },
    {
      "cell_type": "code",
      "execution_count": null,
      "metadata": {
        "hide_input": true,
        "id": "5qCaDRc8HzT8"
      },
      "outputs": [],
      "source": [
        "%%html\n",
        "<iframe width=\"560\" height=\"315\" src=\"https://www.youtube.com/embed/TL9hiIGJYbg\" frameborder=\"0\" allow=\"accelerometer; \n",
        "encrypted-media; gyroscope; picture-in-picture\" allowfullscreen></iframe>"
      ]
    },
    {
      "cell_type": "markdown",
      "metadata": {
        "id": "qjA280hmHzT8"
      },
      "source": [
        "The STFT is basically a DFT applied to short blocks of the signal. For that, the signal is first divided into overlapping blocks of length N and with “hop-size” M.<br>\n",
        "The **analysis equation** is\n",
        "<br>\n",
        "    \n",
        "$$\n",
        "Y_k(m) =\\sum_{n= 0} ^ {N-1} h(n) \\cdot x(m \\cdot M +n) e ^{-j \\frac{2\\pi} { N} \\cdot k \\cdot n}\n",
        "$$    \n",
        "\n",
        "with m=0 until the end of x again the block index, $h(n)$ and is a **window function** of length N for improved filtering properties. Assume N=LM.\n",
        "<br><br>\n",
        "\n",
        "For the synthesis the overlapped blocks are added up (overlap-add). The **synthesis equation** is\n",
        "<br>\n",
        "\n",
        "$$\n",
        "\\hat{x}_{m}(n) =  \\frac{h(n)} { N}  \\cdot \\sum _{k= 0} ^ {N-1} Y_k(m) e ^{j \\frac{2\\pi} {N} \\cdot k \\cdot n}, n=0,...,N-1\n",
        "$$\n",
        "overlap-add:<br>\n",
        "$$\n",
        "x(m_0 \\cdot M+n) = \\sum _{m=0}^ {L-1} {\\hat{ x }}_{m_0-m}(mM+ n )\n",
        "$$\n",
        "\n",
        "n=0,…,M-1.<br>\n",
        "\n",
        "The window has the **overlap-add property**<br>\n",
        "$$\n",
        "\\sum_{ m=0 } ^{L-1} h^2( n +mM ) =1 , n=0,...,M-1\n",
        "$$\n",
        "<br>\n",
        "\n",
        "The STFT is also a **filter bank**, but with **non-critical sampling**, since usually M<N.<br><br>\n",
        "\n",
        "In the literature the **window** function h(n) is usually only applied to the analysis part. Here we also applied it to the **synthesis** part, because this improves the resulting synthesis filters, and is more similar to usual filter banks.<br><br>\n",
        "The corresponding Python function is<br>\n",
        "```scipy.signal.stft```<br>"
      ]
    },
    {
      "cell_type": "code",
      "execution_count": null,
      "metadata": {
        "id": "n7HqL8uLHzT8"
      },
      "outputs": [],
      "source": [
        "# Python Example\n",
        "import numpy as np\n",
        "import scipy\n",
        "x=np.arange(32)\n",
        "print('Signal:',x)\n",
        "f,t,y=scipy.signal.stft(x,nperseg=4) \n",
        "#nperseg is fft length, \n",
        "#f: frequencies of fft subbands, \n",
        "#t: times of subband samples\n",
        "#noverlap = nperseg // 2 ny deafult\n",
        "print('Frequencies of the fft subbands :',f)\n",
        "print('Times of the subband samples :',t)\n",
        "print('Stft:',y)\n",
        "#Inverse STFT:\n",
        "t, xrec=scipy.signal.istft(y)\n",
        "print('Times of reconstructed samples:',t)\n",
        "print('Reconstructed samples:',xrec)\n",
        "#xrec: reconstructed samples\n",
        "#t: times of reconstructed samples"
      ]
    },
    {
      "cell_type": "code",
      "execution_count": null,
      "metadata": {
        "id": "hkOHQbjSHzT9"
      },
      "outputs": [],
      "source": [
        "import scipy.io.wavfile as wav \n",
        "import numpy as np\n",
        "import matplotlib.pyplot as plt\n",
        "if not inColab:\n",
        "    %matplotlib notebook\n",
        "rate, snd = wav.read('./audio/fantasy-orchestra.wav')\n",
        "#Convert to mono\n",
        "mono=np.around((snd[:,0]/2+snd[:,1]/2)).astype(np.int16)\n",
        "\n",
        "f,t,y=signal.stft(mono,fs=rate, nperseg=1024) \n",
        "plt.pcolormesh(t, f, 10*np.log10(np.abs(y),where=np.abs(y)>0), cmap='jet')\n",
        "plt.title('STFT')\n",
        "plt.ylabel('Frequency [Hz]')\n",
        "plt.xlabel('Time [sec]')\n",
        "plt.show()"
      ]
    }
  ],
  "metadata": {
    "kernelspec": {
      "display_name": "Python 3",
      "language": "python",
      "name": "python3"
    },
    "language_info": {
      "codemirror_mode": {
        "name": "ipython",
        "version": 3
      },
      "file_extension": ".py",
      "mimetype": "text/x-python",
      "name": "python",
      "nbconvert_exporter": "python",
      "pygments_lexer": "ipython3",
      "version": "3.6.7"
    },
    "colab": {
      "provenance": []
    }
  },
  "nbformat": 4,
  "nbformat_minor": 0
}