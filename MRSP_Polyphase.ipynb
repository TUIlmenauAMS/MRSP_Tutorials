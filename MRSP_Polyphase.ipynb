{
  "cells": [
    {
      "cell_type": "markdown",
      "metadata": {
        "id": "YwOCe_NMuMYA"
      },
      "source": [
        "<center>\n",
        "    <img src=\"https://github.com/TUIlmenauAMS/MRSP_Tutorials/blob/master/images/msp_header.png?raw=1\">\n",
        "</center>\n",
        "\n",
        "#### Prof. Dr. -Ing. Gerald Schuller <br> Jupyter Notebook: Renato Profeta"
      ]
    },
    {
      "cell_type": "markdown",
      "metadata": {
        "id": "8NGDCsbwuMYD"
      },
      "source": [
        "# Polyphase Representation"
      ]
    },
    {
      "cell_type": "code",
      "execution_count": null,
      "metadata": {
        "hide_input": true,
        "id": "H-AL5_EzuMYE",
        "outputId": "212e1a89-b8b7-4bb8-809d-aef99bd72222"
      },
      "outputs": [
        {
          "data": {
            "text/html": [
              "<center>\n",
              "<iframe width=\"560\" height=\"315\" src=\"https://www.youtube.com/embed/oGT5GcOIvFo\" frameborder=\"0\" allow=\"accelerometer; encrypted-media; gyroscope; picture-in-picture\" allowfullscreen></iframe>\n",
              "</center>\n"
            ],
            "text/plain": [
              "<IPython.core.display.HTML object>"
            ]
          },
          "metadata": {},
          "output_type": "display_data"
        }
      ],
      "source": [
        "%%html\n",
        "<center>\n",
        "<iframe width=\"560\" height=\"315\" src=\"https://www.youtube.com/embed/oGT5GcOIvFo\" frameborder=\"0\" allow=\"accelerometer; encrypted-media; gyroscope; picture-in-picture\" allowfullscreen></iframe>\n",
        "</center>"
      ]
    },
    {
      "cell_type": "markdown",
      "metadata": {
        "id": "-K64Vh8_uMYG"
      },
      "source": [
        "Last time we saw how to obtain the polyphase representation for the fitering and downsampling operation of **1 fiter**. We now extend this formulation for a **bank of N fiters**.\n",
        "\n",
        "Here we not only have 1 fiter, but N fiters in our **analysis fiter bank**, and hence can assemble the N fiter outputs or N subbands into a vector of N elements, \n",
        "\n",
        "$$\\large\n",
        "Y(z):=[Y_0(z),Y_1(z),...,Y_\\text{N-1}(z)]$$\n",
        "\n",
        "We also now have **N fiters** instead of 1 fiter, and we assemble the polyphase vectors of our fiters into a matrix, in which each column corresponds to an anlalysis filter, \n",
        "\n",
        "$$\\large\n",
        "H(z):=[H_0^T(z),H_1^T(z),...,H_\\text{N-1}^T(z)]=$$\n",
        "\n",
        "$$\\large\n",
        "=\\left[ \n",
        "        \\begin{array}{ccc} \n",
        "            H_{N-1,0}(z) & H_{N-1,1}(z) & \\dots & H_{N-1,N-1}(z) \\\\ \n",
        "            H_{N-2,0}(z) & \\dots & \\dots & \\vdots \\\\\n",
        "            \\vdots & \\dots & \\ddots & \\vdots \\\\ \n",
        "            H_{0,0}(z) & \\dots & \\dots & H_{0,N-1}(z) \n",
        "        \\end{array}\n",
        "    \\right]\n",
        "$$,\n",
        "with\n",
        "$$\\large\n",
        "H_\\text{n,k}(z)=\\sum_{m=0}^{\\infty}h_k(m \\cdot N+n) \\cdot z^{-m}$$"
      ]
    },
    {
      "cell_type": "code",
      "execution_count": null,
      "metadata": {
        "hide_input": true,
        "id": "BVvMdCxhuMYG",
        "outputId": "8716eaaf-ecaf-4795-aad0-47b624e78071"
      },
      "outputs": [
        {
          "data": {
            "text/html": [
              "<center>\n",
              "<iframe width=\"560\" height=\"315\" src=\"https://www.youtube.com/embed/pOYWmJrjtxw\" frameborder=\"0\" allow=\"accelerometer; encrypted-media; gyroscope; picture-in-picture\" allowfullscreen></iframe>\n",
              "</center>\n"
            ],
            "text/plain": [
              "<IPython.core.display.HTML object>"
            ]
          },
          "metadata": {},
          "output_type": "display_data"
        }
      ],
      "source": [
        "%%html\n",
        "<center>\n",
        "<iframe width=\"560\" height=\"315\" src=\"https://www.youtube.com/embed/pOYWmJrjtxw\" frameborder=\"0\" allow=\"accelerometer; encrypted-media; gyroscope; picture-in-picture\" allowfullscreen></iframe>\n",
        "</center>"
      ]
    },
    {
      "cell_type": "markdown",
      "metadata": {
        "id": "aXeoikBpuMYG"
      },
      "source": [
        "This **matrix of polynomials** now contains all our N impulse responses of our analysis filter bank, just like in our block transform case, but with **arbitrary long filters**. Unlike our transform case, here we now have z-transforms (polynomials in z) as our matrix entries. This now enables us to write the filtering and downsampling operations of our entire analysis filter bank as a simple multiplication using the above **polyphase matrix!** This is a very important result:\n",
        "\n",
        "$$\\large\n",
        "Y(z)=X(z) \\cdot H(z)$$\n",
        "\n",
        "Mathematically this looks similar to the block transform case, but with z-transforms! Observe that this equation now contains **all the samples** of our **input signal** and also of our **subband signals** and our impulse responses, because we use the z-transformed signals. \n",
        "\n",
        "The z-transform converts a potentially **infinite sequence** into just a scalar or an element (its z-transform), which can be seen as a 1x1 matrix (the z-transform of that sequence is one big polynomial). All the input samples are in vector X(z). This is important because it allows us to use longer filters than just 1 block, longer than with the block transforms.\n",
        "\n",
        "**Observe:** For an implementation, we can write the polyphase matrix as a polynomial of matrices H(m) ,\n",
        "\n",
        "\n",
        "$$\\large\n",
        "H(z)=\\sum_{m=0}^{\\infty}H(m) \\cdot z^{-m}$$\n",
        "\n",
        "Where the elements of the n’th row and k’th column of **H(m)** are:\n",
        "\n",
        "$$\\large\n",
        "H_\\text{n,k}(z)=h_k(m \\cdot N+n)$$\n",
        "\n",
        "In Python the exponent *m* would appear as the third dimension, as “slices” of matrices,\n",
        "\n",
        "$$\\large\n",
        "Hp[n,k,m] = h_k(mN+n)\n",
        "$$\n",
        "\n",
        "**In conclusion:** We can write the entire analysis filter bank with its N filters and downsamplers by N with a size NxN polyphase matrix H (z) , which is multiplied by the polyphase vector of the signal X (z) ."
      ]
    },
    {
      "cell_type": "markdown",
      "metadata": {
        "hide_input": false,
        "id": "VTEqK14MuMYH"
      },
      "source": [
        "## Synthesis Filter Bank"
      ]
    },
    {
      "cell_type": "code",
      "execution_count": null,
      "metadata": {
        "hide_input": true,
        "id": "Q8ekto4IuMYI",
        "outputId": "5e358d46-2d09-45ad-8078-34babe8634e4"
      },
      "outputs": [
        {
          "data": {
            "text/html": [
              "<Center>\n",
              "<iframe width=\"560\" height=\"315\" src=\"https://www.youtube.com/embed/XSZSsrVKZAs\" frameborder=\"0\" allow=\"accelerometer; encrypted-media; gyroscope; picture-in-picture\" allowfullscreen></iframe>\n",
              "</center>\n"
            ],
            "text/plain": [
              "<IPython.core.display.HTML object>"
            ]
          },
          "metadata": {},
          "output_type": "display_data"
        }
      ],
      "source": [
        "%%html\n",
        "<Center>\n",
        "<iframe width=\"560\" height=\"315\" src=\"https://www.youtube.com/embed/XSZSsrVKZAs\" frameborder=\"0\" allow=\"accelerometer; encrypted-media; gyroscope; picture-in-picture\" allowfullscreen></iframe>\n",
        "</center>"
      ]
    },
    {
      "cell_type": "markdown",
      "metadata": {
        "hide_input": false,
        "id": "q1TpV7n4uMYI"
      },
      "source": [
        "Just as for the block transform case, we can also get a corresponding formulation for the synthesis filter bank. For the synthesis filter bank, we can now also write the reconstructed sequence $\\hat x(n)$ in terms of blocks with index *m*\n",
        "and phases *n*, and obtain the synthesis upsampling and convolution as (see also eq. (8) of lecture (11)):\n",
        "\n",
        "$$\\large\n",
        "\\hat x(mN+n) = \\sum_{k=0}^{N-1} \\sum_{m'=0}^{\\frac{L}{N-1}} y_k(m-m') \\cdot g_k(m'N+n)\n",
        "$$\n",
        "(with some still to be determined $g_k$)\n",
        "\n",
        "We can now also use vectors for our sequences of blocks to simplify this equation, using a vector for our reconstructed signal and for our k'th synthesis filter (we start again with looking at just 1 filter),\n",
        "\n",
        "$$\\large\n",
        "\\hat x(m)=[\\hat x(mN),\\hat x(mN+1),...,\\hat x(mN+N-1)]\n",
        "$$\n",
        "\n",
        "$$\\large\n",
        "g_k(m)=[g_k(mN),g_k(mN+1),...,g_k(mN+N-1)]\n",
        "$$\n",
        "\n",
        "Now we can re-write our synthesis equation as (with L the length of the synthesis filters):\n",
        "\n",
        "$$\\large\n",
        "\\hat x(m) = \\sum_{k=0}^{N-1} \\sum_{m'=0}^{\\frac{L}{N-1}} y_k(m-m') \\cdot g_k(m')\n",
        "$$\n",
        "\n",
        "The inner sum is a convolution,\n",
        "\n",
        "$$\\large\n",
        "\\hat x(m) = \\sum_{k=0}^{N-1} y_k(m) * g_k(m)\n",
        "$$\n",
        "\n",
        "where we now no longer have our phase index *n*, because we now have output blocks instead of samples.\n",
        "\n",
        "The inner sum is again a convolution, which turns into a multiplication using the z-transform,\n",
        "\n",
        "$$\\large\n",
        "\\hat X(z) = \\sum_{k=0}^{N-1} Y_k(z)\\cdot G_k(z)\n",
        "$$"
      ]
    },
    {
      "cell_type": "markdown",
      "metadata": {
        "id": "bruSKWVQuMYJ"
      },
      "source": [
        "Now we can extend this notation to our bank of N synthesis filters using our subband vector Y(z), and the synthesis polyphase matrix.\n",
        "\n",
        "Since the output is the sum of all subbands, we obtain our polyphase matrix by collecting all our polyphase (row) vectors of our synthesis filters $G_k(z)$ into a matrix, such that the **outer sum** of the above equation **turns into a matrix multiplication**,\n",
        "\n",
        "$$\\large\n",
        "\\hat X(z) = [Y_0(z), Y_1(z),...Y_{N-1}(z)] \\cdot G(z)\n",
        "$$\n",
        "\n",
        "where each row of G( z) now contains one synthesis filter, or\n",
        "\n",
        "$$\\large\n",
        "=\\left[\n",
        "\\begin{array}{c}\n",
        "G_0(z) \\\\\n",
        "G_1(z) \\\\\n",
        "\\vdots \\\\\n",
        "G_{N-1}(z)\n",
        "\\end{array} \\right] \n",
        "=\\left[ \n",
        "        \\begin{array}{ccc} \n",
        "            G_{0,0}(z) & G_{0,1}(z) & \\dots & G_{0,N-1}(z) \\\\ \n",
        "            G_{1,0}(z) & \\dots & \\dots & \\vdots \\\\\n",
        "            \\vdots & \\dots & \\ddots & \\vdots \\\\ \n",
        "            G_{N-1,0}(z) & \\dots & \\dots & G_{N-1,N-1}(z) \n",
        "        \\end{array}\n",
        "    \\right]\n",
        "$$\n",
        "\n",
        "This is the **synthesis polyphase matrix.**\n",
        "\n",
        "**Observe** that for this polyphase matrix, the indices for the subbands *k* and for the phase *n* are in reversed order compared to the analysis polyphase matrix.\n",
        "\n",
        "**In Conclusion:** Again we turned the mathematically very complex operation of upsampling and synthesis filtering into a mathematically very simple operation with the multiplication of the subband vector with the polyphase matrix!\n",
        "\n",
        "$$\\large\n",
        "\\hat X(z) = Y(z) \\cdot G(z)\n",
        "$$"
      ]
    },
    {
      "cell_type": "markdown",
      "metadata": {
        "id": "eUxI9dp4uMYJ"
      },
      "source": [
        "## Perfect Reconstruction"
      ]
    },
    {
      "cell_type": "code",
      "execution_count": null,
      "metadata": {
        "hide_input": true,
        "id": "JOyVeqp_uMYJ",
        "outputId": "c2b0a3dc-f800-49fd-db78-9c771a273d2c"
      },
      "outputs": [
        {
          "data": {
            "text/html": [
              "<center>\n",
              "<iframe width=\"560\" height=\"315\" src=\"https://www.youtube.com/embed/YsizTX_9X4E\" frameborder=\"0\" allow=\"accelerometer; encrypted-media; gyroscope; picture-in-picture\" allowfullscreen></iframe>\n",
              "</center>\n"
            ],
            "text/plain": [
              "<IPython.core.display.HTML object>"
            ]
          },
          "metadata": {},
          "output_type": "display_data"
        }
      ],
      "source": [
        "%%html\n",
        "<center>\n",
        "<iframe width=\"560\" height=\"315\" src=\"https://www.youtube.com/embed/YsizTX_9X4E\" frameborder=\"0\" allow=\"accelerometer; encrypted-media; gyroscope; picture-in-picture\" allowfullscreen></iframe>\n",
        "</center>"
      ]
    },
    {
      "cell_type": "markdown",
      "metadata": {
        "id": "rsN5U5g0uMYK"
      },
      "source": [
        "Perfect reconstruction (PR) is defned as a reconstructed signal which is identical to the original signal except for a delay,\n",
        "\n",
        "$$\\large\n",
        "\\hat x(n) = x(n-n_d)\n",
        "$$\n",
        "\n",
        "with some delay $n_d$ at the original sampling rate.\n",
        "\n",
        "This delay usually results from our filtering and the downsampling and upsampling operations. To obtain PR we can simply take a look at the output of our synthesis filter bank,\n",
        "\n",
        "$$\\large\n",
        "\\hat X(z) = Y(z) \\cdot G(z) = X(z) \\cdot H(z) \\cdot G(z)\n",
        "$$\n",
        "\n",
        "The structure of the polyphase analysis and synthesis filter bank can be seen also in the following picture,\n",
        "\n",
        "<center>\n",
        "    <img src=\"https://github.com/TUIlmenauAMS/MRSP_Tutorials/blob/master/images/msp_12_01_polyphase.jpg?raw=1\" width=\"800\">\n",
        "</center>\n",
        "\n",
        "The structure with the delays and downsamplers on the left of the analysis polyphase matrix converts a sequence of samples at the high sampling rate into a sequence of blocks at the low sampling rate (“blocking”), which is what our Python function\n",
        "“x2polyphase\" is doing. \n",
        "\n",
        "Conversely, the structure to the right of the synthesis polyphase matrix converts a sequence of blocks at the low sampling rate into a sequence of samples at the high sampling rate (“deblocking”, with polyphase2x)\n",
        "\n",
        "Here we can see that we obtain perfect reconstruction if we have the synthesis polyphase matrix as the inverse of the analysis polyphase times a delay by *d* blocks,\n",
        "\n",
        "$$\\large\n",
        "G(z) = z^{-d} \\cdot H^{-1}(z)\n",
        "$$\n",
        "\n",
        "(where *d* here is the delay at the downsampled rate.)\n",
        "\n",
        "This is basically again like in our block transform case. This is now the constraint for obtaining PR. \n",
        "\n",
        "The question is, how do we obtain filters for PR? How do we invert a polyphase matrix, containing the polynomials? How do we get \"good\" synthesis filters?"
      ]
    },
    {
      "cell_type": "markdown",
      "metadata": {
        "id": "RzMQfF9fuMYK"
      },
      "source": [
        "A simple approach is analog to **orthogonal** block transform matrices, where the inverse is simply the transpose matrix. There the analysis and synthesis filters are identical, except for the time reversal for the analysis filters.\n",
        "\n",
        "The corresponding property of polyphase matrices is called **\"para-unitary\"** (see also: Vaidyanathan: Multirate Systems and Filter Banks). It is defned as,\n",
        "\n",
        "$$\\large\n",
        "\\begin{equation}\n",
        "H^{-1}(z) = H^T(z^{-1})\n",
        "\\end{equation}\n",
        "$$\n",
        "\n",
        "(The transposition is the case for real valued coefficients in the polyphase matrix. Otherwise we need conjugate transposition for the coeffients).\n",
        "\n",
        "This definition is very similar to the definition for orthonormal matrices, except that we have the “ $z^{−1}$ “ on the right hand side (which corresponds to a time-reversal).\n",
        "\n",
        "The advantage (or rather: one of its advantages) of a polyphase matrix with this property is, that we don't need to explicitly compute its inverse, we just need to transpose it and replace all z's by $z^{-1}$\n",
        "\n",
        "**Observe**: if our polynomials in the polyphase matrix **only have zero'th order** (only a constant, no z, only $z^0=1$ ), then the polyphase matrix is identical to a transform matrix (for instance our DCT4). We obtain this simple case if our filters are no longer than N, they fit into one block."
      ]
    }
  ],
  "metadata": {
    "kernelspec": {
      "display_name": "Python 3",
      "language": "python",
      "name": "python3"
    },
    "language_info": {
      "codemirror_mode": {
        "name": "ipython",
        "version": 3
      },
      "file_extension": ".py",
      "mimetype": "text/x-python",
      "name": "python",
      "nbconvert_exporter": "python",
      "pygments_lexer": "ipython3",
      "version": "3.7.4"
    },
    "colab": {
      "provenance": []
    }
  },
  "nbformat": 4,
  "nbformat_minor": 0
}