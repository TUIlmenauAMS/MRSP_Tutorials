{
  "cells": [
    {
      "cell_type": "markdown",
      "metadata": {
        "id": "LZhpYbMtvghe"
      },
      "source": [
        "<center>\n",
        "    <img src=\"https://github.com/TUIlmenauAMS/MRSP_Tutorials/blob/master/images/msp_header.png?raw=1\">\n",
        "</center>\n",
        "\n",
        "#### Prof. Dr. -Ing. Gerald Schuller <br> Jupyter Notebook: Renato Profeta"
      ]
    },
    {
      "cell_type": "markdown",
      "metadata": {
        "id": "mHVTthEcvghn"
      },
      "source": [
        "# Transforms as Filter Banks"
      ]
    },
    {
      "cell_type": "code",
      "execution_count": null,
      "metadata": {
        "hide_input": true,
        "id": "3ei8wEtPvgho",
        "outputId": "e2567292-ed30-4aa7-ae7f-08389df28ebd"
      },
      "outputs": [
        {
          "data": {
            "text/html": [
              "<center>\n",
              "<iframe width=\"560\" height=\"315\" src=\"https://www.youtube.com/embed/4-5xq47I7gs\" frameborder=\"0\" allow=\"accelerometer; encrypted-media; gyroscope; picture-in-picture\" allowfullscreen></iframe>\n",
              "</center>\n"
            ],
            "text/plain": [
              "<IPython.core.display.HTML object>"
            ]
          },
          "metadata": {},
          "output_type": "display_data"
        }
      ],
      "source": [
        "%%html\n",
        "<center>\n",
        "<iframe width=\"560\" height=\"315\" src=\"https://www.youtube.com/embed/4-5xq47I7gs\" frameborder=\"0\" allow=\"accelerometer; encrypted-media; gyroscope; picture-in-picture\" allowfullscreen></iframe>\n",
        "</center>"
      ]
    },
    {
      "cell_type": "markdown",
      "metadata": {
        "id": "Rwzpr5SLvghs"
      },
      "source": [
        "## Equivalent Analysis Filters of a DFT"
      ]
    },
    {
      "cell_type": "code",
      "execution_count": null,
      "metadata": {
        "hide_input": true,
        "id": "zQxSXBNMvght",
        "outputId": "fd7261de-a78d-4f2b-d6e9-3e7c92bab567"
      },
      "outputs": [
        {
          "data": {
            "text/html": [
              "<center>\n",
              "<iframe width=\"560\" height=\"315\" src=\"https://www.youtube.com/embed/57Vo03n-1AE\" frameborder=\"0\" allow=\"accelerometer; encrypted-media; gyroscope; picture-in-picture\" allowfullscreen></iframe>\n",
              "</center>\n"
            ],
            "text/plain": [
              "<IPython.core.display.HTML object>"
            ]
          },
          "metadata": {},
          "output_type": "display_data"
        }
      ],
      "source": [
        "%%html\n",
        "<center>\n",
        "<iframe width=\"560\" height=\"315\" src=\"https://www.youtube.com/embed/57Vo03n-1AE\" frameborder=\"0\" allow=\"accelerometer; encrypted-media; gyroscope; picture-in-picture\" allowfullscreen></iframe>\n",
        "</center>"
      ]
    },
    {
      "cell_type": "markdown",
      "metadata": {
        "id": "z_kEZFwrvghu"
      },
      "source": [
        "From the definitions in lecture 2 we know that a DFT of a block of signal x is defined as:\n",
        "\n",
        "$$\\large\n",
        "X(k) =\\sum _ {n= 0}^ {N-1} x(mN+n) e^{-j \\frac{2\\pi} { N} \\cdot k \\cdot n}\n",
        "$$\n",
        "\n",
        "Hence we can rewrite the DFT as a matrix multiplication with the matrix T with the elements,\n",
        "\n",
        "$$\\large\n",
        "T_{n,k} = e^{-j \\frac{2\\pi} { N} \\cdot k \\cdot n}\n",
        "$$\n",
        "where n is the time (and row) index, and k is the frequency (and column) index.\n",
        "\n",
        "Using the signal block vector:\n",
        "\n",
        "$$\\large\n",
        "\\begin{equation}\n",
        "\\boldsymbol x (m)=[x(mN),x(mN+1), ..., x(mN+N-1)]\n",
        "\\end{equation}\n",
        "$$\n",
        "\n",
        "we can rewrite the DFT of block $m$ as a matrix multiplication,\n",
        "\n",
        "$$\\large\n",
        "\\begin{equation}\n",
        "y(m) = x(m) \\cdot T \\quad (2)\n",
        "\\end{equation}\n",
        "$$\n",
        "\n",
        "This is the matrix formulation of the DFT, where the matrix multiplication (2) is:\n",
        "\n",
        "$$\\large\n",
        "\\begin{equation}\n",
        "y_k(m) = \\sum _ {n= 0}^ {N-1} x(mN+n) e^{-j \\frac{2\\pi} { N} \\cdot k \\cdot n}\n",
        "\\end{equation} \\quad (3)\n",
        "$$\n",
        "\n",
        "Here we can now extract the equivalent impulse responses.\n",
        "\n",
        "Now we can **compare** above transform eq. (3) with the **convolution and downsampling** eq:\n",
        "\n",
        " $$\\large\n",
        " \\begin{equation}\n",
        " y^{\\downarrow N}_{n_0}(m)= \\sum _ {n=0 }^ {L-1} x(mN+n_0-n) h_k(n)\n",
        " \\end{equation}\n",
        " $$\n",
        " \n",
        "We see that here the index n for our signal x has the **reverse order** /reverse sign as in eq. (3).\n",
        "\n",
        "But since we are interested in the equivalent impulse response, we simply **reverse the index order** in the transform equation (3) (we use the index substitution $n\\rightarrow N−1−n'$ ).\n",
        "\n",
        "We still obtain the same sum, because the sum ordering doesn't change the result.\n",
        "\n",
        "$$\\large\n",
        "y^{\\downarrow N}_{N-1}(m)= y_k(m) = \\sum _ {n'=0 }^ {N-1} x(mN+N-1-n') \\cdot e^{-j \\frac{2\\pi} {N} \\cdot (N-1-n') \\cdot k}\n",
        "$$\n",
        "\n",
        "Compare this with our convolution sum in (4) from last time, it looks like the convolution sum, with the phase index of $n_0=N-1$ and with filter length equal to the block lenght, $L=N$.\n",
        "\n",
        "This indicates that $y_k(m)$ contains **phase N-1** of the **downsampled subband signal**. Throught this comparison we obtain the **equivalent impulse response** of our DFT as:\n",
        "\n",
        "$$\\large\n",
        "h_k(n) = e^{-j \\dfrac{2\\pi}{N} \\cdot (N-1-n) \\cdot k} = T_{N-1-n,k}\n",
        "$$\n",
        "\n",
        "This is now the equivalent analysis impulse response of our DFT, interpreted as analysis filter bank! Observe that it can also be interpreted as a **rectangular window** of length N **with modulation** of this exponential term!\n",
        "\n",
        "**In Conclusion:** The **DFT** can also be seen as a **special kind of filter bank.** Each DFT coefficent can be seen as a sample of one of the downsampled subbands.\n",
        "**Each column of our transform matrix T represents the impulse response of one subband filter, but in reversed order** (we can read the impulse response out of the transform matrix starting from the bottom and going up)."
      ]
    },
    {
      "cell_type": "markdown",
      "metadata": {
        "id": "4-a_9eq3vghx"
      },
      "source": [
        "## Equivalent Synthesis Filter Bank"
      ]
    },
    {
      "cell_type": "code",
      "execution_count": null,
      "metadata": {
        "hide_input": true,
        "id": "deQbZcH4vghz",
        "outputId": "c1938589-b45d-432a-9fa0-fe645dfcec1e"
      },
      "outputs": [
        {
          "data": {
            "text/html": [
              "<center>\n",
              "<iframe width=\"560\" height=\"315\" src=\"https://www.youtube.com/embed/JXsMpUa8r20\" frameborder=\"0\" allow=\"accelerometer; encrypted-media; gyroscope; picture-in-picture\" allowfullscreen></iframe>\n",
              "</center>\n"
            ],
            "text/plain": [
              "<IPython.core.display.HTML object>"
            ]
          },
          "metadata": {},
          "output_type": "display_data"
        }
      ],
      "source": [
        "%%html\n",
        "<center>\n",
        "<iframe width=\"560\" height=\"315\" src=\"https://www.youtube.com/embed/JXsMpUa8r20\" frameborder=\"0\" allow=\"accelerometer; encrypted-media; gyroscope; picture-in-picture\" allowfullscreen></iframe>\n",
        "</center>"
      ]
    },
    {
      "cell_type": "markdown",
      "metadata": {
        "id": "wTnWNLAkvgh1"
      },
      "source": [
        "<center>\n",
        "    <img src=\"https://github.com/TUIlmenauAMS/MRSP_Tutorials/blob/master/images/msp_10_01_synthesis.JPG?raw=1\" width=500>\n",
        "</center>"
      ]
    },
    {
      "cell_type": "markdown",
      "metadata": {
        "id": "ojkoia8gvgh2"
      },
      "source": [
        "We still need the find the equivalent synthesis filters, if we apply the inverse transform for the perfect reconstruction of our signal (we get perfect reconstruction, i.e. the original signal, if the transform **T** is invertible).\n",
        "\n",
        "For the mathematical formulation of the inverse transform, we can again write the reconstructed signal $\\hat{x}$ as a sequence of blocks,\n",
        "\n",
        "$$\\large\n",
        "\\hat{x} (m)=[\\hat{x}(mN),\\hat{x}(mN+1), ..., \\hat{x}(mN+N-1)] \n",
        "$$\n",
        "\n",
        "We obtain the reconstructed signal by simply multiplying the blocks of subband samples $y(m)$ with the inverse transform matrix,\n",
        "\n",
        "$$\\large\n",
        "\\begin{equation}\n",
        "\\hat{x} (m) = y(m) \\cdot T^{-1} \\quad (5)\n",
        "\\end{equation}\n",
        "$$\n",
        "\n",
        "The elements of this inverse DFT matrix are:\n",
        "\n",
        "$$\\large\n",
        "\\left( T^{-1}\\right)_{k,n} = \\dfrac{1}{N} \\cdot e^{j \\frac{2\\pi} { N} \\cdot k \\cdot n}\n",
        "$$\n",
        "\n",
        "Eq. (5) can now also be written as (using row times column):\n",
        "\n",
        "$$\\large\n",
        "\\begin{equation}\n",
        "\\hat{x}(mN+n) = \\sum_{k=0}^{N-1} y_k(m) \\cdot \\dfrac{1}{N} \\cdot e^{j \\frac{2\\pi} { N} \\cdot k \\cdot n} \\quad (6)\n",
        "\\end{equation}\n",
        "$$\n",
        "with n=0,...,N-1.\n",
        "\n",
        "To see the resulting impulse response of the equivalent synthesis filter bank, we need the equations for upsampling and filtering in the synthesis filter bank."
      ]
    },
    {
      "cell_type": "markdown",
      "metadata": {
        "id": "ubzsj3auvgh4"
      },
      "source": [
        "In the synthesis filter bank, the subband signals $y_k(m)$ are **upsampled** first, and we obtain the upsampled signal $y_{0,k}^{\\uparrow N}(n)$ with phase 0 and time index *n* because we are at the higher sampling rate. \n",
        "\n",
        "The following filtering is the convolution with the synthesis subband impulse responses $g_k(n)$ , hence we get the\n",
        "output of the k'th filter as:\n",
        "\n",
        "$$\\large\n",
        "\\begin{equation}\n",
        "x_k(n) = y_{0,k}^{\\uparrow N}(n) * g_k(n) = \\sum_{n'=0}^{L-1} y_{0,k}^{\\uparrow N} (n-n')\\cdot g_k(n') \\quad (7)\n",
        "\\end{equation}\n",
        "$$\n",
        "where L is the length of the synthesis filter. We assume that L is a multiple of N, which we can always obtain by appending zeros if necessary.\n",
        "\n",
        "Observe that most samples of $y_{0, k}^{\\uparrow N}(n)$ are zero. To rewrite (7) such that we only process the non-zero samples, we again use the block wise processing, by substituting $ n \\rightarrow mN+n$  and $n'\\rightarrow m' N+n'$ (using block indices m and m' and in block or phase indices n and n') to obtain:\n",
        "\n",
        "$$\\large\n",
        "\\hat{x}(mN+n) = \\sum_{m'=0}^{\\frac{L}{N-1}} \\sum_{n'=0}^{N-1} y_{0, k}^{\\uparrow N} (mN + n - m'N-n') \\cdot g_k(m'N+n')\n",
        "$$\n",
        "with n=0,...,N-1.\n",
        "\n",
        "Here we can see that we get the non-zero elements of $y_{0, k}^{\\uparrow N}(n)$ if its argument is integer multiples of N, and we get this if we have n=n '. Because of this, the inner sum only consists of one summand (because the sum over n' disappears),\n",
        "\n",
        "$$\\large\n",
        "\\hat{x}(mN+n) = \\sum_{m'=0}^{\\frac{L}{N-1}} y_{0,k}^{\\uparrow N} ((m-m')N)\\cdot g_k(m'N+n)\n",
        "$$\n",
        "\n",
        "For the reconstructed signal, we simply **add up** all the N **subbands**,\n",
        "\n",
        "$$\\large\n",
        "\\hat{x}(mN+n) = \\sum_{k=0}^{N-1} \\sum_{m'=0}^{\\frac{L}{N-1}}  y_{0, k}^{\\uparrow N} ((m-m')N)\\cdot g_k(m'N+n)\n",
        "$$\n",
        "\n",
        "Here we can now replace $y_{0,k}^{\\uparrow N}(mN)$ by $y_k{m}$, since we now address only the non-zero elements,\n",
        "\n",
        "$$\\large\n",
        "\\begin{equation}\n",
        "\\hat{x}(mN+n) = \\sum_{k=0}^{N-1} \\sum_{m'=0}^{\\frac{L}{N-1}}  y_k(m-m') \\cdot g_k(m'N+n) \\quad (8)\n",
        "\\end{equation}\n",
        "$$\n",
        "\n",
        "This is now our reconstructed signal, where the first sum is over the subbands, and the second sum is over the blocks."
      ]
    },
    {
      "cell_type": "markdown",
      "metadata": {
        "id": "jwOHpCHKvgh5"
      },
      "source": [
        "At this point, we can compare this filter bank eq. (8) with the synthesis transform eq. (6).\n",
        "\n",
        "$$\\large\n",
        "\\hat{x}(mN+n) = \\sum_{k=0}^{N-1} y_k(m) \\cdot \\dfrac{1}{N} \\cdot e^{j \\frac{2\\pi} { N} \\cdot k \\cdot n} \\quad (6)\n",
        "$$\n",
        "\n",
        "First we see that the transform eq. (6) has no sum over the blocks, meaning the filters only have length <u>L=N</u>, hence the inner sum disappears with <u>m'=0</u>. With this, (8) becomes:\n",
        "\n",
        "$$\\large\n",
        "\\hat{x}(mN+n) = \\sum_{k=0}^{N-1} y_k(m) \\cdot g_k(n) \n",
        "$$\n",
        "\n",
        "Compare this with the transform equation (6), we can see now that the equivalent impulse responses are:\n",
        "\n",
        "$$\\large\n",
        "g_k(n) = \\dfrac{1}{N} \\cdot e^{j \\frac{2\\pi} { N} \\cdot k \\cdot n} = \\left( T^{-1} \\right)_{k,n}\n",
        "$$\n",
        "\n",
        "Looking at our transform matrix, we see that this impulse responses correspond to each row of the inverse transform matrix, non-reversed.\n",
        "\n",
        "**In Conclusion:** the **impulse responses of our subbands are the rows of the synthesis transform matrix,** here **not time reversed!** (We can read out the impulse responses of the synthesis filter bank from left to right in each column of the transform matrix).\n",
        "\n",
        "Observe: Each time we got our result by comparing the convolution sum of our equivalent filter bank with the transform sum."
      ]
    },
    {
      "cell_type": "markdown",
      "metadata": {
        "id": "0WJmpG6jvgh6"
      },
      "source": [
        "## Python Example"
      ]
    },
    {
      "cell_type": "markdown",
      "metadata": {
        "id": "F38CjcV4vgh7"
      },
      "source": [
        "Take a DFT of size N=4 . Its transform matrix T can be obtained with"
      ]
    },
    {
      "cell_type": "code",
      "execution_count": null,
      "metadata": {
        "hide_input": true,
        "id": "xc5i8q13vgh8",
        "outputId": "32080f5e-73ff-48f8-c5d4-d2761f8df6ce"
      },
      "outputs": [
        {
          "data": {
            "text/html": [
              "<center>\n",
              "<iframe width=\"560\" height=\"315\" src=\"https://www.youtube.com/embed/--B_ms6Sph4\" frameborder=\"0\" allow=\"accelerometer; encrypted-media; gyroscope; picture-in-picture\" allowfullscreen></iframe>\n",
              "</center>\n"
            ],
            "text/plain": [
              "<IPython.core.display.HTML object>"
            ]
          },
          "metadata": {},
          "output_type": "display_data"
        }
      ],
      "source": [
        "%%html\n",
        "<center>\n",
        "<iframe width=\"560\" height=\"315\" src=\"https://www.youtube.com/embed/--B_ms6Sph4\" frameborder=\"0\" allow=\"accelerometer; encrypted-media; gyroscope; picture-in-picture\" allowfullscreen></iframe>\n",
        "</center>"
      ]
    },
    {
      "cell_type": "code",
      "execution_count": 1,
      "metadata": {
        "id": "xs8UbFievgh9"
      },
      "outputs": [],
      "source": [
        "from numpy import fft, eye"
      ]
    },
    {
      "cell_type": "code",
      "execution_count": 2,
      "metadata": {
        "id": "44wXGoRtvgh-",
        "outputId": "8c76de79-6f2e-42c4-f42f-d6bfa4037c63",
        "colab": {
          "base_uri": "https://localhost:8080/"
        }
      },
      "outputs": [
        {
          "output_type": "execute_result",
          "data": {
            "text/plain": [
              "array([[ 1.+0.j,  1.+0.j,  1.+0.j,  1.+0.j],\n",
              "       [ 1.+0.j,  0.-1.j, -1.+0.j,  0.+1.j],\n",
              "       [ 1.+0.j, -1.+0.j,  1.+0.j, -1.+0.j],\n",
              "       [ 1.+0.j,  0.+1.j, -1.+0.j,  0.-1.j]])"
            ]
          },
          "metadata": {},
          "execution_count": 2
        }
      ],
      "source": [
        "T=fft.fft(eye(4))\n",
        "T"
      ]
    },
    {
      "cell_type": "markdown",
      "metadata": {
        "id": "Ejqej1X9vgh-"
      },
      "source": [
        "Observe that we have complex values in the transform, and hence obtain complex valued filters. To evaluate complex valued filters, we need the full circle in the frequency domain, from 0 to $2\\pi$.\n",
        "\n",
        "If we want to obtain the frequency response of subband k=1 of this DFT filter bank, we take the second column, time-reverse it, and plot the frequency response with freqz."
      ]
    },
    {
      "cell_type": "code",
      "execution_count": 3,
      "metadata": {
        "id": "3-HFVJgKvgh_"
      },
      "outputs": [],
      "source": [
        "import scipy.signal as sp\n",
        "import matplotlib.pyplot as plt\n",
        "import numpy as np"
      ]
    },
    {
      "cell_type": "code",
      "execution_count": 4,
      "metadata": {
        "id": "F-zrqt7GvgiA",
        "outputId": "f27e5e7f-c2de-463c-c2cf-5b9b4796beba",
        "colab": {
          "base_uri": "https://localhost:8080/",
          "height": 718
        }
      },
      "outputs": [
        {
          "output_type": "display_data",
          "data": {
            "text/plain": [
              "<Figure size 1000x800 with 1 Axes>"
            ],
            "image/png": "[encoded data removed]"
          },
          "metadata": {}
        }
      ],
      "source": [
        "W,H=sp.freqz(np.flipud(T[:,1]),whole=True)\n",
        "H[H == 0] = np.finfo(float).eps\n",
        "\n",
        "plt.figure(figsize=(10,8))\n",
        "plt.plot(W, 20*np.log10(abs(H)))\n",
        "plt.axis([0,6.28, -20,15])\n",
        "plt.xlabel('Normalized Frequency')\n",
        "plt.ylabel('dB')\n",
        "plt.title('Magnitude Response for DFT suband k=1');\n",
        "plt.grid()"
      ]
    },
    {
      "cell_type": "markdown",
      "metadata": {
        "id": "CypMdOFwvgiG"
      },
      "source": [
        "**Observe:** We have a bad stopband attenuation (less than 20dB).\n",
        "Also **observe:** The frequency axis is going from **0 to $2\\pi$** (instead of just pi). This is because we have a **complex** impulse response. The normalized frequency $2\\pi$ is the sampling frequency. \n",
        "\n",
        "Since we have a $2\\pi$ periodic frequency, this is identical to frequency 0, and the **frequencies from $\\pi$ to $2\\pi$** can also be seen as the **negative frequencies from $-\\pi$ to 0.** This shows that this filter has a **pass band at the positive frequencies, but not at the negative frequencies.**\n",
        "\n",
        "The equivalent passband at the negative frequencies is obtained from subband k=3,"
      ]
    },
    {
      "cell_type": "code",
      "execution_count": 5,
      "metadata": {
        "id": "GaRgiI1NvgiJ",
        "outputId": "437d6f1a-1525-4127-e4b6-c14e6dfb0fd6",
        "colab": {
          "base_uri": "https://localhost:8080/",
          "height": 718
        }
      },
      "outputs": [
        {
          "output_type": "display_data",
          "data": {
            "text/plain": [
              "<Figure size 1000x800 with 1 Axes>"
            ],
            "image/png": "[encoded data removed]"
          },
          "metadata": {}
        }
      ],
      "source": [
        "W,H=sp.freqz(np.flipud(T[:,3]),whole=True)\n",
        "H[H == 0] = np.finfo(float).eps\n",
        "\n",
        "plt.figure(figsize=(10,8))\n",
        "plt.plot(W, 20*np.log10(abs(H)))\n",
        "plt.axis([0,6.28, -20,15])\n",
        "plt.xlabel('Normalized Frequency')\n",
        "plt.ylabel('dB')\n",
        "plt.title('Magnitude Response for DFT suband k=3');\n",
        "plt.grid()"
      ]
    },
    {
      "cell_type": "markdown",
      "metadata": {
        "id": "wU4rg7TWvgiK"
      },
      "source": [
        "**Observe:** This looks like the frequency mirrored version of the filter for k=1. This also shows how to separate positive and negative frequencies.\n",
        "\n",
        "The **low pass is at k=0**, and the **high pass appears at k=2.** Observe that here the high pass appears in the middle, because of this symmetry between positive and negative frequencies."
      ]
    },
    {
      "cell_type": "markdown",
      "metadata": {
        "id": "3eyr0IpQvgiK"
      },
      "source": [
        "## Example Transform as Filter Bank:"
      ]
    },
    {
      "cell_type": "markdown",
      "metadata": {
        "id": "Y5K_GhEQvgiM"
      },
      "source": [
        "Now we show in an example that the **transform is** indeed a special case of **a critically sampled filter bank** with the above computed filters.\n",
        "\n",
        "Take the example signal of length 8:"
      ]
    },
    {
      "cell_type": "code",
      "execution_count": null,
      "metadata": {
        "hide_input": true,
        "id": "aPpYIspqvgiM",
        "outputId": "d68288ab-fbaa-4ef3-e046-a92ad5ac476f"
      },
      "outputs": [
        {
          "data": {
            "text/html": [
              "<center>\n",
              "<iframe width=\"560\" height=\"315\" src=\"https://www.youtube.com/embed/znEpH7ebWac\" frameborder=\"0\" allow=\"accelerometer; encrypted-media; gyroscope; picture-in-picture\" allowfullscreen></iframe>\n",
              "</center>\n"
            ],
            "text/plain": [
              "<IPython.core.display.HTML object>"
            ]
          },
          "metadata": {},
          "output_type": "display_data"
        }
      ],
      "source": [
        "%%html\n",
        "<center>\n",
        "<iframe width=\"560\" height=\"315\" src=\"https://www.youtube.com/embed/znEpH7ebWac\" frameborder=\"0\" allow=\"accelerometer; encrypted-media; gyroscope; picture-in-picture\" allowfullscreen></iframe>\n",
        "</center>"
      ]
    },
    {
      "cell_type": "code",
      "execution_count": 6,
      "metadata": {
        "id": "co2-nO6TvgiN",
        "outputId": "b0455cb7-be14-4b54-b07a-ff56fa658a66",
        "colab": {
          "base_uri": "https://localhost:8080/"
        }
      },
      "outputs": [
        {
          "output_type": "execute_result",
          "data": {
            "text/plain": [
              "array([ 0.00000000e+00,  7.07106781e-01,  1.00000000e+00,  7.07106781e-01,\n",
              "        1.22464680e-16, -7.07106781e-01, -1.00000000e+00, -7.07106781e-01])"
            ]
          },
          "metadata": {},
          "execution_count": 6
        }
      ],
      "source": [
        "x=np.sin(2*np.pi/8*1*np.arange(8))\n",
        "x"
      ]
    },
    {
      "cell_type": "markdown",
      "metadata": {
        "id": "V4CMpsDJvgiO"
      },
      "source": [
        "and its decomposition into blocks of length 4:"
      ]
    },
    {
      "cell_type": "code",
      "execution_count": 7,
      "metadata": {
        "id": "B-ZQScHVvgiP",
        "outputId": "bb7f477d-778a-40aa-f5fe-b7dc095941a3",
        "colab": {
          "base_uri": "https://localhost:8080/"
        }
      },
      "outputs": [
        {
          "output_type": "execute_result",
          "data": {
            "text/plain": [
              "array([[ 0.00000000e+00,  7.07106781e-01,  1.00000000e+00,\n",
              "         7.07106781e-01],\n",
              "       [ 1.22464680e-16, -7.07106781e-01, -1.00000000e+00,\n",
              "        -7.07106781e-01]])"
            ]
          },
          "metadata": {},
          "execution_count": 7
        }
      ],
      "source": [
        "xm=np.zeros((2,4))\n",
        "xm[0,:]=x[0:4]\n",
        "xm[1,:]=x[4:8]\n",
        "xm"
      ]
    },
    {
      "cell_type": "markdown",
      "metadata": {
        "id": "UUj1uNxrvgiR"
      },
      "source": [
        "Again we obtain our DFT **transform matrix** as"
      ]
    },
    {
      "cell_type": "code",
      "execution_count": 8,
      "metadata": {
        "id": "ptOmKNdYvgiS",
        "outputId": "3b3885b6-c2c7-4f73-e514-8e541fc9c9ec",
        "colab": {
          "base_uri": "https://localhost:8080/"
        }
      },
      "outputs": [
        {
          "output_type": "execute_result",
          "data": {
            "text/plain": [
              "array([[ 1.+0.j,  1.+0.j,  1.+0.j,  1.+0.j],\n",
              "       [ 1.+0.j,  0.-1.j, -1.+0.j,  0.+1.j],\n",
              "       [ 1.+0.j, -1.+0.j,  1.+0.j, -1.+0.j],\n",
              "       [ 1.+0.j,  0.+1.j, -1.+0.j,  0.-1.j]])"
            ]
          },
          "metadata": {},
          "execution_count": 8
        }
      ],
      "source": [
        "T=fft.fft(eye(4))\n",
        "T"
      ]
    },
    {
      "cell_type": "markdown",
      "metadata": {
        "id": "5JqihP9xvgiT"
      },
      "source": [
        "We obtain the **transformed blocks** with"
      ]
    },
    {
      "cell_type": "code",
      "execution_count": 9,
      "metadata": {
        "id": "9EYylS81vgiT",
        "outputId": "bde62532-c27c-4218-f167-90c1d4123502",
        "colab": {
          "base_uri": "https://localhost:8080/"
        }
      },
      "outputs": [
        {
          "output_type": "execute_result",
          "data": {
            "text/plain": [
              "array([[ 2.41421356+0.00000000e+00j, -1.        +1.11022302e-16j,\n",
              "        -0.41421356+0.00000000e+00j, -1.        -1.11022302e-16j],\n",
              "       [-2.41421356+0.00000000e+00j,  1.        -2.22044605e-16j,\n",
              "         0.41421356+0.00000000e+00j,  1.        +2.22044605e-16j]])"
            ]
          },
          "metadata": {},
          "execution_count": 9
        }
      ],
      "source": [
        "yt=np.dot(xm,T)\n",
        "yt"
      ]
    },
    {
      "cell_type": "markdown",
      "metadata": {
        "id": "c4UXA3cRvgia"
      },
      "source": [
        "Here, **each row** contains the **spectrum** of each corresponding block.\n",
        "\n",
        "Now we process the input signal x through a **critically sampled filter bank** with the **equivalent filter impulse responses,** the transform matrix columns, flipped up-down, and down-sampled with the last phase of the blocks, $n_0=N−1=3$ (as it appeared in our derivation of the equivalent impulse responses),"
      ]
    },
    {
      "cell_type": "code",
      "execution_count": 10,
      "metadata": {
        "id": "FGpHWCN5vgib",
        "outputId": "7ea9339d-e7b4-4f6b-d84d-5338b62465fc",
        "colab": {
          "base_uri": "https://localhost:8080/"
        }
      },
      "outputs": [
        {
          "output_type": "execute_result",
          "data": {
            "text/plain": [
              "array([[ 2.41421356+0.00000000e+00j, -1.        +1.11022302e-16j,\n",
              "        -0.41421356+0.00000000e+00j, -1.        -1.11022302e-16j],\n",
              "       [-2.41421356+0.00000000e+00j,  1.        -2.22044605e-16j,\n",
              "         0.41421356+0.00000000e+00j,  1.        +2.22044605e-16j]])"
            ]
          },
          "metadata": {},
          "execution_count": 10
        }
      ],
      "source": [
        "y=np.zeros((2,4))*1j\n",
        "for k in range(4):\n",
        "    y[:,k]=sp.lfilter(np.flipud(T[:,k]),1,x)[3::4] #first index: n_0=N-1=3, last index: downsampling factor N=4\n",
        "y"
      ]
    },
    {
      "cell_type": "markdown",
      "metadata": {
        "id": "6E-dApwhvgic"
      },
      "source": [
        "Compare with the transform output yt.\n",
        "\n",
        "We can see that yt from the **transform** and y from the critically sampled **filter bank** are indeed the **same!**\n",
        "\n",
        "**In conclusion:** We see that a **transform** is a **special case** of a **filter bank.** The tool of reading out the impulse responses from a transform matrix allows us to **analyze the resulting filters**, and to judge if they fulfill our requirements."
      ]
    }
  ],
  "metadata": {
    "kernelspec": {
      "display_name": "Python 3",
      "language": "python",
      "name": "python3"
    },
    "language_info": {
      "codemirror_mode": {
        "name": "ipython",
        "version": 3
      },
      "file_extension": ".py",
      "mimetype": "text/x-python",
      "name": "python",
      "nbconvert_exporter": "python",
      "pygments_lexer": "ipython3",
      "version": "3.7.4"
    },
    "colab": {
      "provenance": []
    }
  },
  "nbformat": 4,
  "nbformat_minor": 0
}