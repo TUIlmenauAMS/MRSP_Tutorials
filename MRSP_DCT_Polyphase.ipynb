{
  "cells": [
    {
      "cell_type": "markdown",
      "metadata": {
        "id": "m10uzXIw0VJg"
      },
      "source": [
        "<center>\n",
        "    <img src=\"https://github.com/TUIlmenauAMS/MRSP_Tutorials/blob/master/images/msp_header.png?raw=1\">\n",
        "</center>\n",
        "\n",
        "#### Prof. Dr. -Ing. Gerald Schuller <br> Jupyter Notebook: Renato Profeta"
      ]
    },
    {
      "cell_type": "markdown",
      "metadata": {
        "id": "RgjPdNfS0VJt"
      },
      "source": [
        "# DCT and Polyphase Representation"
      ]
    },
    {
      "cell_type": "code",
      "execution_count": null,
      "metadata": {
        "hide_input": true,
        "id": "6UB_t1rz0VJv",
        "outputId": "88f45ad3-5236-4dce-da01-c4e3f9cbb1ee"
      },
      "outputs": [
        {
          "data": {
            "text/html": [
              "<center>\n",
              "<iframe width=\"560\" height=\"315\" src=\"https://www.youtube.com/embed/sPXt7PBBwnw\" frameborder=\"0\" allow=\"accelerometer; encrypted-media; gyroscope; picture-in-picture\" allowfullscreen></iframe>\n",
              "</center>\n"
            ],
            "text/plain": [
              "<IPython.core.display.HTML object>"
            ]
          },
          "metadata": {},
          "output_type": "display_data"
        }
      ],
      "source": [
        "%%html\n",
        "<center>\n",
        "<iframe width=\"560\" height=\"315\" src=\"https://www.youtube.com/embed/sPXt7PBBwnw\" frameborder=\"0\" allow=\"accelerometer; encrypted-media; gyroscope; picture-in-picture\" allowfullscreen></iframe>\n",
        "</center>"
      ]
    },
    {
      "cell_type": "markdown",
      "metadata": {
        "id": "jFEJCUiJ0VJ1"
      },
      "source": [
        "## Notation"
      ]
    },
    {
      "cell_type": "markdown",
      "metadata": {
        "id": "AzV0ivLL0VJ3"
      },
      "source": [
        "Last time we saw the equvalent impulse responses for analysis and synthesis for the DFT. Observe that our convention is to multiply the **signal vector** (a **row vector**) from the **left hand side** onto the transform matrix. In the literature, also the other way around is used, with the **signal vector** beeing a **column vector** multiplied from the **right hand side** onto the transform matrix. The transform matrix is then also the transposed version.\n",
        "\n",
        "This is our Notation:\n",
        "\n",
        "$$\\large\n",
        "\\mathbf{X_{1xN} \\cdot T_{NxN} = Y_{1xN}}\n",
        "$$\n",
        "\n",
        "This has the advantage that it **corresponds to a signal flow diagram**, from left to right. The following is an alternative notation.\n",
        "\n",
        "$$\\large\n",
        "\\mathbf{Y_{Nx1} =  T_{NxN} \\cdot X_{Nx1}}\n",
        "$$\n",
        "\n",
        "It correponds more to the **mathematical notation of functions**, from right to left."
      ]
    },
    {
      "cell_type": "markdown",
      "metadata": {
        "id": "Ve4dr7iY0VJ4"
      },
      "source": [
        "## Discrete Cosine Transform (DCT)"
      ]
    },
    {
      "cell_type": "code",
      "execution_count": null,
      "metadata": {
        "hide_input": true,
        "id": "sr5CDBLf0VJ6",
        "outputId": "52befd78-53bf-4437-b5ff-fc2f87d8aa9d"
      },
      "outputs": [
        {
          "data": {
            "text/html": [
              "<center>\n",
              "<iframe width=\"560\" height=\"315\" src=\"https://www.youtube.com/embed/pom33DKz96U\" frameborder=\"0\" allow=\"accelerometer; encrypted-media; gyroscope; picture-in-picture\" allowfullscreen></iframe>\n",
              "</center>\n"
            ],
            "text/plain": [
              "<IPython.core.display.HTML object>"
            ]
          },
          "metadata": {},
          "output_type": "display_data"
        }
      ],
      "source": [
        "%%html\n",
        "<center>\n",
        "<iframe width=\"560\" height=\"315\" src=\"https://www.youtube.com/embed/pom33DKz96U\" frameborder=\"0\" allow=\"accelerometer; encrypted-media; gyroscope; picture-in-picture\" allowfullscreen></iframe>\n",
        "</center>"
      ]
    },
    {
      "cell_type": "markdown",
      "metadata": {
        "id": "MD_y7w7s0VJ9"
      },
      "source": [
        "Another widely used block transform is the Discrete Cosine Transform. The **DCT Type 4** is defined as (see lecture 2).\n",
        "\n",
        "$$\\large\n",
        "y_k(m)=\\sqrt{\\frac{2}{ N}} \\sum _ {n=0}^ {N-1} x(mN+n) \\cdot  cos \\left(\\frac{\\pi} {N} (n+0.5)(k+0.5) \\right)\n",
        "$$\n",
        "\n",
        "for the analysis (k=0,...,N-1). Characteristic here is the shift of 0.5 in the subband index k and the time index n.\n",
        "\n",
        "As a comparison, the **DCT Type 2** analysis transform is defined as\n",
        "\n",
        "$$\\large\n",
        "y_k(m)=c_k \\cdot \\sqrt{\\frac{2}{ N}} \\sum _ {n=0}^ {N-1} x(mN+n) \\cdot  cos \\left(\\frac{\\pi} {N} (n+0.5)(k) \\right)\n",
        "$$\n",
        "\n",
        "where $c_0=\\sqrt{0.5}$, and $c_k = 1$ for k > 0, with k=0,...,N-1.\n",
        "\n",
        "Observe that the only difference is that the DCT 4 also has a shift of 0.5 for the frequency index k.\n",
        "\n",
        "The DCT 2 is mostly used for images and video coding, whereas the DCT 4 is mostly used for audio signals.\n",
        "\n",
        "Using the definition of the DCT 4, we can now construct the transform matrix and extract the **equivalent impulse responses.** The analysis transform matrix becomes:\n",
        "\n",
        "$$\\large\n",
        "\\mathbf{T_{n,k}}=\\sqrt{\\frac{2}{ N}}  cos \\left(\\frac{\\pi} {N} (n+0.5)(k+0.5) \\right)\n",
        "$$\n",
        "\n",
        "The impulse response of the **equivalent analysis filters** are the time-reversed columns,\n",
        "\n",
        "$$\\large\n",
        "h_k(n)=\\sqrt{\\frac{2}{ N}}  cos \\left(\\frac{\\pi} {N} (N-1+n+0.5)(k+0.5) \\right)\n",
        "$$\n",
        "\n",
        "In this way we get N impulse responses."
      ]
    },
    {
      "cell_type": "markdown",
      "metadata": {
        "id": "IjMhuJH30VKB"
      },
      "source": [
        "The synthesis impulse responses are simply the rows of this transform matrix (which in this case is identical to the columns),\n",
        "\n",
        "$$\\large\n",
        "g_k(n)=\\sqrt{\\frac{2}{ N}}  cos \\left(\\frac{\\pi} {N} (n+0.5)(k+0.5) \\right)\n",
        "$$\n",
        "\n",
        "We see that they are simply the **time-reversed analysis filter** (since here we don't need time reversal).\n",
        "\n",
        "Here we have **perfect reconstruction** filter banks, with **critical sampling**, both desirable properties for coding. But our  equivalent filters are **restricted to a length of N**. This leads to filters which do not really have good frequency responses, we get wide transition bands for our band pass filters relative to the width of the passband, and not enough stopband attenuation.\n",
        "\n",
        "In Python we get the transform matrix for the DCT 4 as:"
      ]
    },
    {
      "cell_type": "code",
      "execution_count": 1,
      "metadata": {
        "id": "TVRnag2g0VKD",
        "outputId": "763a624b-596d-48d1-b514-043839520a33",
        "colab": {
          "base_uri": "https://localhost:8080/"
        }
      },
      "outputs": [
        {
          "output_type": "execute_result",
          "data": {
            "text/plain": [
              "array([[ 0.69351992,  0.5879378 ,  0.39284748,  0.13794969],\n",
              "       [ 0.5879378 , -0.13794969, -0.69351992, -0.39284748],\n",
              "       [ 0.39284748, -0.69351992,  0.13794969,  0.5879378 ],\n",
              "       [ 0.13794969, -0.39284748,  0.5879378 , -0.69351992]])"
            ]
          },
          "metadata": {},
          "execution_count": 1
        }
      ],
      "source": [
        "import numpy as np\n",
        "\n",
        "N=4\n",
        "T=np.zeros((4,4))\n",
        "\n",
        "for n in range(4):\n",
        "    for k in range(4):\n",
        "        T[n,k]=np.cos(np.pi/4*(n+0.5)*(k+0.5))*np.sqrt(2.0/N)\n",
        "T"
      ]
    },
    {
      "cell_type": "markdown",
      "metadata": {
        "id": "_M8kLDpL0VKF"
      },
      "source": [
        "Now we can plot the frequency response of the analysis filter, for instance for subband k=0:"
      ]
    },
    {
      "cell_type": "code",
      "execution_count": 2,
      "metadata": {
        "id": "cxzJ-HXE0VKG",
        "outputId": "86145665-970d-4606-ba3d-9e8e1a381db4",
        "colab": {
          "base_uri": "https://localhost:8080/",
          "height": 718
        }
      },
      "outputs": [
        {
          "output_type": "display_data",
          "data": {
            "text/plain": [
              "<Figure size 1000x800 with 1 Axes>"
            ],
            "image/png": "[encoded data removed]"
          },
          "metadata": {}
        }
      ],
      "source": [
        "import scipy.signal as sp\n",
        "import matplotlib.pyplot as plt\n",
        "\n",
        "W,H=sp.freqz(np.flipud(T[:,0]))\n",
        "\n",
        "plt.figure(figsize=(10,8))\n",
        "plt.plot(W,20*np.log10(abs(H)))\n",
        "plt.xlabel('Normalized Frequency')\n",
        "plt.ylabel('dB')\n",
        "plt.title('Magnitude Response for DCT4 suband k=0')\n",
        "plt.grid()"
      ]
    },
    {
      "cell_type": "markdown",
      "metadata": {
        "id": "ZrL2hPAv0VKJ"
      },
      "source": [
        "Observe the low stopband attenuation of less than 20 dB.\n",
        "\n",
        "A solution is to allow filters with **longer impulse response**, longer than the block size N. This would lead to non-square transform matrices. But non-square matrices are not invertible in general (we can only obtain a pseudo-inverse), hence we would **loose perfect reconstruction**, which is a problem. Alternatively we could have overlapping blocks, which could provide perfect reconstruction, but then we would **lose critical sampling**, again a problem for coding applications.\n",
        "\n",
        "Our goal is to obtain **longer filters**, have the same block length for **critical sampling**, **and perfect reconstruction**.\n",
        "\n",
        "This means the transform matrix approach or view comes to its limits. We need new tools. This leads us to the **polyphase** representation, which can be seen as an extension of the transform matrix approach, or as a **mixture** between the **transform view** and the **filter bank view.**"
      ]
    },
    {
      "cell_type": "markdown",
      "metadata": {
        "hide_input": false,
        "id": "2oGnENtQ0VKK"
      },
      "source": [
        "## Polyphase Representation"
      ]
    },
    {
      "cell_type": "markdown",
      "metadata": {
        "id": "IUgPTtcU0VKL"
      },
      "source": [
        "### Analysis Filter Bank"
      ]
    },
    {
      "cell_type": "code",
      "execution_count": null,
      "metadata": {
        "hide_input": true,
        "id": "32uyR4DU0VKM",
        "outputId": "d6968d09-338b-4ac2-8be0-be7cf7e93c10"
      },
      "outputs": [
        {
          "data": {
            "text/html": [
              "<center>\n",
              "<iframe width=\"560\" height=\"315\" src=\"https://www.youtube.com/embed/bL_Xp_ZQ6ss\" frameborder=\"0\" allow=\"accelerometer; encrypted-media; gyroscope; picture-in-picture\" allowfullscreen></iframe>\n",
              "</center>\n"
            ],
            "text/plain": [
              "<IPython.core.display.HTML object>"
            ]
          },
          "metadata": {},
          "output_type": "display_data"
        }
      ],
      "source": [
        "%%html\n",
        "<center>\n",
        "<iframe width=\"560\" height=\"315\" src=\"https://www.youtube.com/embed/bL_Xp_ZQ6ss\" frameborder=\"0\" allow=\"accelerometer; encrypted-media; gyroscope; picture-in-picture\" allowfullscreen></iframe>\n",
        "</center>"
      ]
    },
    {
      "cell_type": "markdown",
      "metadata": {
        "id": "hDXLKAvj0VKO"
      },
      "source": [
        "We start with writing our analysis filtering (with FIR filters of length L) and downsampling operation in terms of our block index m and an in block or “phase” index n (with 0≤n≤N−1 ).\n",
        "\n",
        "The original formulation for our subband signals, for the convolution and downsampling with phase $n_0$ was\n",
        "\n",
        "$$\\large\n",
        "y^{\\downarrow N}_{n_0,k}(m) = \\sum_{n=0}^{L-1} x(mN+ n_0 -n) \\cdot h_k(n)\n",
        "$$\n",
        "\n",
        "In general we assume that the filter length L is an integer multiple of N (we can always zero pad it if necessary). We can now split this sum into a “in block” processing with the **phase index** n that runs from 0 to N−1 , and an “out of block” processing with the **block index** m’ which runs from 0 to the end, by using an index substitution. In this way, the index m’ corresponds to our downsampled index.\n",
        "\n",
        "To obtain the same ordering for the signal x as we used for our block transform approach (with its index n going up) we substitute $n \\rightarrow m' N + N − 1 − n$ and choose the downsampling phase as $n_0=N−1$ to obtain:\n",
        "\n",
        "$$\\large\n",
        "\\begin{equation} \\tag{8}\n",
        "y^{\\downarrow N}_{N-1,k} = \\sum_{m'=0}^{\\frac{L}{N-1}} \\sum_{n=0}^{N-1} x(mN-m'N+n) \\cdot h_k(mN+N-1-n)\n",
        "\\end{equation}\n",
        "$$\n",
        "\n",
        "Observe that this is still our filter bank formulation, but the interesting part here is that the **inner sum** again looks like our **block transform** formulation, with blocks or vectors of size N and an impulse response along the column vector of length N. \n",
        "\n",
        "We can reformulate or simplify the inner sum as a vector multiplication when we rewrite the impulse response h(n) as a vector, which contains a sequence of blocks,\n",
        "\n",
        "$$\\large\n",
        "{\\bf h}_k(m)=[h_k(mN+N-1), h_k(mN+N-2),...,h_k(mN)]\n",
        "$$\n",
        "\n",
        "and use the vector of input blocks:\n",
        "\n",
        "$$\\large\n",
        "{\\bf x}(m)=[x(mN),x(mN+1),...,x(mN+N-1)]\n",
        "$$\n",
        "\n",
        "Hence we get:\n",
        "\n",
        "$$\\large\n",
        "{\\bf x}(m-m') \\cdot {\\bf h}_{k}^{T} = \\sum_{n=1}^{N-1} x((m-m')\\cdot N+n) \\cdot h_k(m'N+N-1-n)\n",
        "$$\n",
        "\n",
        "Which is now exactly the inner sum of (8). Hence using these 2 vectors we can replace the inner sum by this vector multiplication and rewrite or simplify eq. (8) into:\n",
        "\n",
        "$$\\large\n",
        "y^{\\downarrow N}_{N-1,k} = \\sum_{m'=0}^{\\frac{L}{N-1}} {\\bf x}(m-m') \\cdot {\\bf h}_k(m')\n",
        "$$\n",
        "\n",
        "The inner part of this sum is now like our block transform, if we view our impulse response $h_k$ as one (reversed) column of a transform matrix. So again, this is the transform view inside the filter bank view with longer filters, which is why we also have the outer sum, the “out of block” processing, a convolution."
      ]
    },
    {
      "cell_type": "markdown",
      "metadata": {
        "id": "ht8c2JD80VKP"
      },
      "source": [
        "The remaining outer sum now looks like a **convolution** again, but now with a sequence of **blocks instead of samples**, we have a **vector convolution**,\n",
        "\n",
        "$$\\large\n",
        "y^{\\downarrow N}_{N-1,k} = \\mathbf{x}(m) * \\mathbf{h_k^T}(m)\n",
        "$$\n",
        "\n",
        "Observe the our downsampling factor is now “embedded” in our block size.\n",
        "\n",
        "This has the advantage, that we now can apply the z-transform to this equation to turn the **convolution into a multiplication!**\n",
        "\n",
        "First we need to z-transform our vectors."
      ]
    },
    {
      "cell_type": "markdown",
      "metadata": {
        "id": "AlfqNfqJ0VKQ"
      },
      "source": [
        "Starting with the signal vector x(m) in the time domain:\n",
        "\n",
        "$$\\large\n",
        "{\\bf x}(m)=[x(mN),x(mN+1),...,x(mN+N-1)] \\\\\n",
        "\\large\n",
        "=  \\left[ \n",
        "x_0^{\\downarrow N}(m),...,x_{N-1}^{\\downarrow N}(m)\n",
        "\\right]\n",
        "$$\n",
        "\n",
        "we can compute the z-transform of each element of the vector as **polyphase elements**.\n",
        "\n",
        "$$\\large\n",
        "\\begin{equation}\n",
        "X_n(z) = \\sum_{m=0}^\\infty n_n^{\\downarrow N}(m) \\cdot z^{-m}\n",
        "\\end{equation}\n",
        "$$\n",
        "\n",
        "The z-transform of our signal vector **x**(m) then becomes the **“polyphase vector”**:\n",
        "\n",
        "$$\\large\n",
        "\\mathbf{X}(z):= [X_0(z), X_1(z),...,X_{N-1}(z)] \\\\\n",
        "\\large\n",
        "= \\mathbf{X}(z) = \\sum_{m=0}^\\infty \\mathbf{x}(m) \\cdot z^{-m}\n",
        "$$\n",
        "\n",
        "Since we have N phases, we call this approach **“Polyphase”**."
      ]
    },
    {
      "cell_type": "markdown",
      "metadata": {
        "id": "ctQ37f1C0VKS"
      },
      "source": [
        "We use the same method for the vector of **impulse responses**,\n",
        "\n",
        "$$\\large\n",
        "\\mathbf{H}_k(z):= [\\mathbf{H}_{N-1,k}(z), \\mathbf{H}_{N-2,k}(z),...,\\mathbf{H}_{0,k}(z)]\n",
        "$$\n",
        "\n",
        "with the polyphase elements: \n",
        "\n",
        "$$\n",
        "\\begin{equation}\n",
        "\\large\n",
        "= \\mathbf{H}_{n,k}(z) = \\sum_{m=0}^\\infty h_k(mN+n) \\cdot z^{-m} \\\\\n",
        "\\large\n",
        "= \\sum_{m=0}^\\infty h_{n,k}^{\\downarrow N}(m) \\cdot z^{-m} \n",
        "\\end{equation}\n",
        "$$\n",
        "\n",
        "The output of our k-th filter is still just a polynomial (not a vector or matrix),\n",
        "\n",
        "$$\\large\n",
        "\\mathbf{Y}_k(z) := \\sum_{m=0}^\\infty y_{N-1,k}^{\\downarrow N}(m) \\cdot z^{-m} \n",
        "$$\n",
        "\n",
        "The result of **filtering and downsampling** for the k -th filter in the z-domain is then the following simple **multiplication of vectors**,\n",
        "\n",
        "$$\\large\n",
        "\\mathbf{Y}_k(z) = \\mathbf{X}(z) \\cdot \\mathbf{H_k^T}(z)\n",
        "$$\n",
        "\n",
        "**Observe:** Here we rewrote the analysis filtering and subsequent downsampling by this multiplication of vectors in the z-domain!\n",
        "\n",
        "For an **implementation** we can convert this equation back into the time domain, starting with rewriting the vector multiplication as a sum over the phase index n,\n",
        "\n",
        "$$\\large\n",
        "\\mathbf{Y}_k(z) = \\mathbf{X}(z) \\cdot \\mathbf{H_k^T}(z) \\\\\n",
        "\\large\n",
        "= \\sum_{n=0}^{N-1} X_n(z) \\cdot H_{N-1-n,k}(z)\n",
        "$$\n",
        "\n",
        "The multiplications in the z-domain become a sum with simple convolutions in the time domain,\n",
        "\n",
        "$$\\large\n",
        "\\begin{equation}\n",
        "y_{N-1,k}^{\\downarrow N}(m) =\\sum_{n=0}^{N-1}  x_n^{\\downarrow N}(m) * h_{N-1-n,k}^{\\downarrow N}(m)\n",
        "\\end{equation}\n",
        "$$\n",
        "\n",
        "This is the **sum over the phases of the convolution of the blocks.**\n",
        "\n",
        "With this equation we can now implement the polyphase structure in the time domain."
      ]
    },
    {
      "cell_type": "markdown",
      "metadata": {
        "id": "hMdM7lTk0VKT"
      },
      "source": [
        "#### Visualization of the polyphase elements and the blocks."
      ]
    },
    {
      "cell_type": "markdown",
      "metadata": {
        "id": "iGtDWMwd0VKU"
      },
      "source": [
        "Given a signal x(n) and a downsampling rate of N=2 we get the follwoing blocks and polyphase elements:\n",
        "\n",
        "<center>\n",
        "    <img src=\"https://github.com/TUIlmenauAMS/MRSP_Tutorials/blob/master/images/msp_11_01_polyphase.jpg?raw=1\" width=500>\n",
        "</center>"
      ]
    },
    {
      "cell_type": "markdown",
      "metadata": {
        "id": "yE_RUnBt0VKV"
      },
      "source": [
        "## Python Polyphase Example"
      ]
    },
    {
      "cell_type": "markdown",
      "metadata": {
        "id": "RUllrAhq0VKV"
      },
      "source": [
        "Assume a signal x=[5,6,7,8,9,10] and N=3.\n",
        "\n",
        "Then we get the signal blocks x(m) with m in a range as we need to fit the signal, as x(0)=[5,6,7], x(1)=[8,9,10].\n",
        "\n",
        "We can use Python Sympy and use **3-dimensional arrays or tensors** to represent the **coefficients** of the different **exponents** of z in the 3rd dimension:"
      ]
    },
    {
      "cell_type": "code",
      "execution_count": null,
      "metadata": {
        "hide_input": true,
        "id": "VbBKvFxh0VKW",
        "outputId": "ed926df3-21b8-4f35-d6af-571d2c160e5c"
      },
      "outputs": [
        {
          "data": {
            "text/html": [
              "<center>\n",
              "<iframe width=\"560\" height=\"315\" src=\"https://www.youtube.com/embed/yOEy9l3AYGU\" frameborder=\"0\" allow=\"accelerometer; encrypted-media; gyroscope; picture-in-picture\" allowfullscreen></iframe>\n",
              "</center>\n"
            ],
            "text/plain": [
              "<IPython.core.display.HTML object>"
            ]
          },
          "metadata": {},
          "output_type": "display_data"
        }
      ],
      "source": [
        "%%html\n",
        "<center>\n",
        "<iframe width=\"560\" height=\"315\" src=\"https://www.youtube.com/embed/yOEy9l3AYGU\" frameborder=\"0\" allow=\"accelerometer; encrypted-media; gyroscope; picture-in-picture\" allowfullscreen></iframe>\n",
        "</center>"
      ]
    },
    {
      "cell_type": "code",
      "execution_count": 3,
      "metadata": {
        "id": "RAJdyKKU0VKX",
        "outputId": "0e4bb0ba-de06-4184-ad27-86f5598de34b",
        "colab": {
          "base_uri": "https://localhost:8080/"
        }
      },
      "outputs": [
        {
          "output_type": "execute_result",
          "data": {
            "text/plain": [
              "array([5.0 + 8.0/z, 6.0 + 9.0/z, 7.0 + 10.0/z], dtype=object)"
            ]
          },
          "metadata": {},
          "execution_count": 3
        }
      ],
      "source": [
        "import sympy\n",
        "import numpy as np\n",
        "z=sympy.symbols('z')\n",
        "\n",
        "#The x polyphase matrix is a row vector with 2 blocks:\n",
        "xp=np.zeros((1,3,2))\n",
        "xp[0,:,0]=[5,6,7]\n",
        "xp[0,:,1]=[8,9,10]\n",
        "Xz=xp[0,:,0] + xp[0,:,1]* z**(-1)\n",
        "Xz"
      ]
    },
    {
      "cell_type": "code",
      "execution_count": 4,
      "metadata": {
        "id": "OGEsE2GX0VKY",
        "outputId": "62cf4fbc-f676-4586-83e2-71b9709827ac",
        "colab": {
          "base_uri": "https://localhost:8080/"
        }
      },
      "outputs": [
        {
          "output_type": "stream",
          "name": "stdout",
          "text": [
            "array([5.0 + 8.0/z, 6.0 + 9.0/z, 7.0 + 10.0/z], dtype=object)\n"
          ]
        }
      ],
      "source": [
        "from pprint import *\n",
        "pprint(Xz)"
      ]
    },
    {
      "cell_type": "markdown",
      "metadata": {
        "id": "reh3M_9Z0VKZ"
      },
      "source": [
        "The polyphase elements $X_n(z)$ with phase n=0,... ,N−1 are:\n",
        "\n",
        "$$\n",
        "X_0{z}=5+8\\cdot z^-1 \\\\\n",
        "X_1(z)=6+9\\cdot z^-1 \\\\\n",
        "X_2(z)=7+10\\cdot z^-1 \\\\\n",
        "$$\n",
        "\n",
        "The polyphase vector is:\n",
        "\n",
        "$$\n",
        "X(z)=[X_0(z),X_1(z),X_2(z)] \\\\\n",
        "=[5+8z^{-1},6+9z^{-1},7+10z^{-1}]\n",
        "$$\n",
        "\n",
        "We see that it corresponds to our Python output."
      ]
    },
    {
      "cell_type": "markdown",
      "metadata": {
        "id": "AAxQt2_P0VKa"
      },
      "source": [
        "Assume we have the first analysis impulse response of $h_0=[3,4,5,6,7,8]$ for N=3. Then its polyphase vector is in general:\n",
        "\n",
        "$H_k(z):=[H_{N-1,k}(z),H_{N-2,k}(z),...,H_{0,k}(z)]$\n",
        "\n",
        "(with our **phases going down**) and for this example, k=0,\n",
        "\n",
        "$H_0(z)=[5+8z^{-1},4+7z^{-1},3+6z^{-1}]$\n",
        "\n",
        "In Python this is:\n",
        "\n",
        "The h polyphase matrix is a **column vector** with 2 blocks:"
      ]
    },
    {
      "cell_type": "code",
      "execution_count": 5,
      "metadata": {
        "id": "aaSn0spg0VKa",
        "outputId": "dc327052-eec1-4a5f-e862-00687a49632d",
        "colab": {
          "base_uri": "https://localhost:8080/"
        }
      },
      "outputs": [
        {
          "output_type": "execute_result",
          "data": {
            "text/plain": [
              "array([5.0 + 8.0/z, 4.0 + 7.0/z, 3.0 + 6.0/z], dtype=object)"
            ]
          },
          "metadata": {},
          "execution_count": 5
        }
      ],
      "source": [
        "hp=np.zeros((3,1,2))\n",
        "hp[:,0,0]=[5,4,3]\n",
        "hp[:,0,1]=[8,7,6]\n",
        "Hz=hp[:,0,0] + hp[:,0,1]* z**(-1)\n",
        "Hz"
      ]
    },
    {
      "cell_type": "markdown",
      "metadata": {
        "id": "duPBJXtG0VKb"
      },
      "source": [
        "Filtering with downsampling as mult. of the polyphase matrices Xz and Hz:\n",
        "\n",
        "$$Y_0(z)=X(z)\\cdot H_0^T(z)$$"
      ]
    },
    {
      "cell_type": "code",
      "execution_count": 6,
      "metadata": {
        "id": "-Fd8nEki0VKc",
        "outputId": "a2da3029-9617-4618-8811-5e2e0ccecac9",
        "colab": {
          "base_uri": "https://localhost:8080/",
          "height": 51
        }
      },
      "outputs": [
        {
          "output_type": "execute_result",
          "data": {
            "text/plain": [
              "70.0 + 230.0/z + 187.0/z**2"
            ],
            "text/latex": "$\\displaystyle 70.0 + \\frac{230.0}{z} + \\frac{187.0}{z^{2}}$"
          },
          "metadata": {},
          "execution_count": 6
        }
      ],
      "source": [
        "Yz=sympy.expand(np.dot(Xz,Hz))\n",
        "Yz"
      ]
    },
    {
      "cell_type": "markdown",
      "metadata": {
        "id": "VuG7nR5e0VKd"
      },
      "source": [
        "## Faster Implementation"
      ]
    },
    {
      "cell_type": "code",
      "execution_count": null,
      "metadata": {
        "hide_input": true,
        "id": "LTP_y5QV0VKd",
        "outputId": "0b29296e-9da2-4717-ff58-f6cba8fec200"
      },
      "outputs": [
        {
          "data": {
            "text/html": [
              "<center>\n",
              "<iframe width=\"560\" height=\"315\" src=\"https://www.youtube.com/embed/LDy5Sf0YlW0\" frameborder=\"0\" allow=\"accelerometer; encrypted-media; gyroscope; picture-in-picture\" allowfullscreen></iframe>\n",
              "</center>\n"
            ],
            "text/plain": [
              "<IPython.core.display.HTML object>"
            ]
          },
          "metadata": {},
          "output_type": "display_data"
        }
      ],
      "source": [
        "%%html\n",
        "<center>\n",
        "<iframe width=\"560\" height=\"315\" src=\"https://www.youtube.com/embed/LDy5Sf0YlW0\" frameborder=\"0\" allow=\"accelerometer; encrypted-media; gyroscope; picture-in-picture\" allowfullscreen></iframe>\n",
        "</center>"
      ]
    },
    {
      "cell_type": "markdown",
      "metadata": {
        "id": "RnsL8N8y0VKe"
      },
      "source": [
        "We obtain a faster implementation without Sympy if we go back into the time domain, and write our polyphase matrices as **polynomials** with **matrix coefficients**,\n",
        "\n",
        "$$\\large\n",
        "A(z)=\\sum_{n=0}^{N_A-1} A_n \\cdot z^{-n} \\\\\n",
        "\\large\n",
        "B(z)=\\sum_{n=0}^{N_B-1} B_n \\cdot z^{-n}\n",
        "$$\n",
        "\n",
        "where $A_n$ and $B_n$ contain all the coefficients of $z^{-1}$, and $N_A$ and $N_b$ are the length of the polynomials. Then their product is:\n",
        "\n",
        "$$\\large\n",
        "A(z)=\\sum_{n=0}^{N_A+N_B-2} \\sum_{m=0}^{n} A_{n-m} \\cdot B_m \\cdot z^{-n}\n",
        "$$\n",
        "\n",
        "(Remember: ($a_0+a_1\\cdot z^{-1})\\cdot(b_0+b_1\\cdot z^{-1}) = a_0 b_0 + (a_0 b_1 + a_1 b_0)\\cdot z^{-1}+a_1 b_1 \\cdot z^{-2}$)\n",
        "\n",
        "Observe: in the z-domain this is a **multiplication of matrix polynomials**, in the time domain this is a **convolution of matrix sequences**.\n",
        "\n",
        "In **Python** we can program a function polmatmult(A,B),"
      ]
    },
    {
      "cell_type": "code",
      "execution_count": 7,
      "metadata": {
        "id": "5l-4spVx0VKf"
      },
      "outputs": [],
      "source": [
        "import numpy as np\n",
        "\n",
        "def polmatmult( A,B ):\n",
        "    \"\"\"polmatmult(A,B)\n",
        "    multiplies two polynomial matrices (arrays) A and B, where each matrix\n",
        "    entry is a polynomial.\n",
        "    Those polynomial entries are in the 3rd dimension\n",
        "    The third dimension can also be interpreted as containing the (2D)\n",
        "    coefficient matrices of exponent of z^-1.\n",
        "    Result is C=A*B;\"\"\"\n",
        "    \n",
        "    [NAx, NAy, NAz] = np.shape(A);\n",
        "    [NBx, NBy, NBz] = np.shape(B);\n",
        "    #Degree +1 of resulting polynomial, with NAz-1 and NBz-1 being the degree of the input polynomials:\n",
        "    Deg = NAz + NBz -1;\n",
        "    C = np.zeros((NAx,NBy,Deg));\n",
        "    #Convolution of matrices:\n",
        "    for n in range(0,(Deg)):\n",
        "        for m in range(0,n+1):\n",
        "            if ((n-m)<NAz and m<NBz):\n",
        "                C[:,:,n] = C[:,:,n]+ np.dot(A[:,:,(n-m)],B[:,:,m]);\n",
        "    return C"
      ]
    },
    {
      "cell_type": "markdown",
      "metadata": {
        "id": "OaJGE38y0VKg"
      },
      "source": [
        "### Application Example"
      ]
    },
    {
      "cell_type": "markdown",
      "metadata": {
        "id": "CJ56R1-B0VKg"
      },
      "source": [
        "Take our signal and filter as in our sympy example, but write them as polynomials of vectors; x=[5,6,7,8,9,10] with N=3, and its polyphase representation is $X(z)=[5,6,7]+z^{-1} \\cdot [8,9,10].$ Similar for our filter h=[5,4,3,8,7,6] with polyphase representation $H(z)=[5,4,3]+z^{-1} \\cdot [8,7,6]$.\n",
        "\n",
        "These are **polynomials whose coefficients are vectors**. In Python we simply store the sequence of vectors, with the exponent as index in the third (last) dimension:"
      ]
    },
    {
      "cell_type": "code",
      "execution_count": null,
      "metadata": {
        "hide_input": true,
        "id": "eY2JEV4_0VKh",
        "outputId": "81f68ac6-e8d7-42b2-e1d9-95f2fcb57673"
      },
      "outputs": [
        {
          "data": {
            "text/html": [
              "<center>\n",
              "<iframe width=\"560\" height=\"315\" src=\"https://www.youtube.com/embed/9InMQH6uACQ\" frameborder=\"0\" allow=\"accelerometer; encrypted-media; gyroscope; picture-in-picture\" allowfullscreen></iframe>\n",
              "</center>\n"
            ],
            "text/plain": [
              "<IPython.core.display.HTML object>"
            ]
          },
          "metadata": {},
          "output_type": "display_data"
        }
      ],
      "source": [
        "%%html\n",
        "<center>\n",
        "<iframe width=\"560\" height=\"315\" src=\"https://www.youtube.com/embed/9InMQH6uACQ\" frameborder=\"0\" allow=\"accelerometer; encrypted-media; gyroscope; picture-in-picture\" allowfullscreen></iframe>\n",
        "</center>"
      ]
    },
    {
      "cell_type": "code",
      "execution_count": 8,
      "metadata": {
        "id": "VSwTNx0b0VKy",
        "outputId": "7f405d2e-35ae-4b2f-bfb4-a6e384ce5e54",
        "colab": {
          "base_uri": "https://localhost:8080/"
        }
      },
      "outputs": [
        {
          "output_type": "execute_result",
          "data": {
            "text/plain": [
              "array([[[ 70., 230., 187.]]])"
            ]
          },
          "metadata": {},
          "execution_count": 8
        }
      ],
      "source": [
        "xp=np.zeros((1,3,2))\n",
        "xp[0,:,0]=[5,6,7]\n",
        "xp[0,:,1]=[8,9,10]\n",
        "hp=np.zeros((3,1,2))\n",
        "hp[:,0,0]=[5,4,3]\n",
        "hp[:,0,1]=[8,7,6]\n",
        "\n",
        "yp=polmatmult(xp,hp)\n",
        "yp"
      ]
    },
    {
      "cell_type": "markdown",
      "metadata": {
        "id": "5Mggt1tE0VKz"
      },
      "source": [
        "**Observe:** This result in the time domain **corresponds** indeed to the one with Sympy in the **z-domain**!"
      ]
    },
    {
      "cell_type": "markdown",
      "metadata": {
        "id": "GyujetKh0VK0"
      },
      "source": [
        "### Function to turn a signal into a polyphase vector"
      ]
    },
    {
      "cell_type": "markdown",
      "metadata": {
        "id": "GoyQWcyE0VK0"
      },
      "source": [
        "The following Python function turns a signal (for instance an audio signal) into a polyphase vector that can be used as input for our function polmatmult:"
      ]
    },
    {
      "cell_type": "code",
      "execution_count": null,
      "metadata": {
        "hide_input": true,
        "id": "omnrSKAI0VK1",
        "outputId": "fc163128-6729-496e-ecc6-69e9bae20bd3"
      },
      "outputs": [
        {
          "data": {
            "text/html": [
              "<center>\n",
              "<iframe width=\"560\" height=\"315\" src=\"https://www.youtube.com/embed/E_GeAxCDCcc\" frameborder=\"0\" allow=\"accelerometer; encrypted-media; gyroscope; picture-in-picture\" allowfullscreen></iframe>\n",
              "</center>\n"
            ],
            "text/plain": [
              "<IPython.core.display.HTML object>"
            ]
          },
          "metadata": {},
          "output_type": "display_data"
        }
      ],
      "source": [
        "%%html\n",
        "<center>\n",
        "<iframe width=\"560\" height=\"315\" src=\"https://www.youtube.com/embed/E_GeAxCDCcc\" frameborder=\"0\" allow=\"accelerometer; encrypted-media; gyroscope; picture-in-picture\" allowfullscreen></iframe>\n",
        "</center>"
      ]
    },
    {
      "cell_type": "code",
      "execution_count": 9,
      "metadata": {
        "id": "JbCtARNi0VK1"
      },
      "outputs": [],
      "source": [
        "def x2polyphase(x,N):\n",
        "    \"\"\"Converts input signal x (a row vector) into a\n",
        "    polyphase row vector\n",
        "    for blocks of length N\"\"\"\n",
        "    #Number of blocks in the signal:\n",
        "    L = int(np.floor(max(np.shape(x))/N))\n",
        "    print(\"L= \", L)\n",
        "    xp = np.zeros((1,N,L))\n",
        "    for m in range(0,L):\n",
        "        xp[0,:,m] = x[m*N+np.arange(N)]\n",
        "    return xp"
      ]
    },
    {
      "cell_type": "markdown",
      "metadata": {
        "id": "WHS59MTM0VLJ"
      },
      "source": [
        "### Function to turn a polyphase vector into a sequential signal"
      ]
    },
    {
      "cell_type": "code",
      "execution_count": 10,
      "metadata": {
        "id": "FaX9shII0VLK"
      },
      "outputs": [],
      "source": [
        "def polyphase2x(xp):\n",
        "    \"\"\"Converts polyphase input signal xp (a row vector) into a\n",
        "    contiguos row vector\n",
        "    For block length N, for 3D polyphase representation\n",
        "    (exponents of z in the third\n",
        "    matrix/tensor dimension)\"\"\"\n",
        "    #Number of blocks in the signal\n",
        "    [r,N,L] = np.shape(xp);\n",
        "    x = np.zeros((1,N*L));\n",
        "    for m in range(L):\n",
        "        x[0,m*N+np.arange(N)]=xp[0,:,m]\n",
        "    return x"
      ]
    }
  ],
  "metadata": {
    "kernelspec": {
      "display_name": "Python 3",
      "language": "python",
      "name": "python3"
    },
    "language_info": {
      "codemirror_mode": {
        "name": "ipython",
        "version": 3
      },
      "file_extension": ".py",
      "mimetype": "text/x-python",
      "name": "python",
      "nbconvert_exporter": "python",
      "pygments_lexer": "ipython3",
      "version": "3.7.4"
    },
    "colab": {
      "provenance": []
    }
  },
  "nbformat": 4,
  "nbformat_minor": 0
}